{
 "cells": [
  {
   "cell_type": "code",
   "execution_count": 1,
   "id": "serious-phone",
   "metadata": {},
   "outputs": [],
   "source": [
    "from splinter import Browser\n",
    "from bs4 import BeautifulSoup as bs\n",
    "import time\n",
    "from webdriver_manager.chrome import ChromeDriverManager\n",
    "import requests\n",
    "import pandas as pd\n",
    "import re\n",
    "import selenium\n",
    "from pandas import DataFrame"
   ]
  },
  {
   "cell_type": "code",
   "execution_count": 2,
   "id": "negative-emperor",
   "metadata": {},
   "outputs": [],
   "source": [
    "def init_browser():\n",
    "    # @NOTE: Replace the path with your actual path to the chromedriver\n",
    "    executable_path = {\"executable_path\": ChromeDriverManager().install()}\n",
    "    return Browser(\"chrome\", **executable_path, headless=False)"
   ]
  },
  {
   "cell_type": "code",
   "execution_count": 3,
   "id": "virtual-prospect",
   "metadata": {},
   "outputs": [
    {
     "name": "stderr",
     "output_type": "stream",
     "text": [
      "[WDM] - ====== WebDriver manager ======\n"
     ]
    },
    {
     "name": "stdout",
     "output_type": "stream",
     "text": [
      "\n",
      "\n"
     ]
    },
    {
     "name": "stderr",
     "output_type": "stream",
     "text": [
      "[WDM] - Current google-chrome version is 88.0.4324\n",
      "[WDM] - Get LATEST driver version for 88.0.4324\n",
      "[WDM] - There is no [mac64] chromedriver for browser 88.0.4324 in cache\n",
      "[WDM] - Get LATEST driver version for 88.0.4324\n",
      "[WDM] - Trying to download new driver from https://chromedriver.storage.googleapis.com/88.0.4324.96/chromedriver_mac64.zip\n",
      "[WDM] - Driver has been saved in cache [/Users/jenniferdean/.wdm/drivers/chromedriver/mac64/88.0.4324.96]\n"
     ]
    }
   ],
   "source": [
    "browser = init_browser()\n",
    "url = \"https://www.fragrantica.com/notes/\"\n",
    "browser.visit(url)"
   ]
  },
  {
   "cell_type": "code",
   "execution_count": 4,
   "id": "electrical-semiconductor",
   "metadata": {},
   "outputs": [],
   "source": [
    "html = browser.html\n",
    "soup = bs(html, \"html.parser\")"
   ]
  },
  {
   "cell_type": "code",
   "execution_count": 10,
   "id": "available-importance",
   "metadata": {},
   "outputs": [
    {
     "data": {
      "text/plain": [
       "'CITRUS SMELLS'"
      ]
     },
     "execution_count": 10,
     "metadata": {},
     "output_type": "execute_result"
    }
   ],
   "source": [
    "soup.find(\"h2\").get_text()"
   ]
  },
  {
   "cell_type": "code",
   "execution_count": 12,
   "id": "outdoor-inspector",
   "metadata": {},
   "outputs": [
    {
     "name": "stdout",
     "output_type": "stream",
     "text": [
      "CITRUS SMELLS\n",
      "FRUITS, VEGETABLES AND NUTS\n",
      "FLOWERS\n",
      "WHITE FLOWERS\n",
      "GREENS, HERBS AND FOUGERES\n",
      "SPICES\n",
      "SWEETS AND GOURMAND SMELLS\n",
      "WOODS AND MOSSES\n",
      "RESINS AND BALSAMS\n",
      "MUSK, AMBER, ANIMALIC SMELLS\n",
      "BEVERAGES\n",
      "NATURAL AND SYNTHETIC, POPULAR AND WEIRD\n"
     ]
    }
   ],
   "source": [
    "for h2 in soup.find_all('h2'):\n",
    "    print(h2.text)"
   ]
  },
  {
   "cell_type": "code",
   "execution_count": 30,
   "id": "julian-consumer",
   "metadata": {},
   "outputs": [],
   "source": [
    "note_image = []\n",
    "note_name = []\n",
    "\n",
    "for notes in soup.find_all('div', class_='cell small-6 medium-4 large-3 text-center notebox'):\n",
    "    \n",
    "    note_image.append(notes.a.img[\"src\"])\n",
    "    notesscrape = notes.text\n",
    "    note_name.append(notesscrape.replace('\\n', '').strip(\" \"))\n"
   ]
  },
  {
   "cell_type": "code",
   "execution_count": 32,
   "id": "worthy-shore",
   "metadata": {},
   "outputs": [
    {
     "name": "stdout",
     "output_type": "stream",
     "text": [
      "['Bergamot', 'Bitter Orange', 'Blood Orange', 'Calamansi', 'Chinotto', 'Citron', 'Citruses', 'Clementine', 'Finger Lime', 'Grapefruit', 'Hassaku', 'Hatkora lemon', 'Kaffir Lime', 'Kumquat', 'Lemon', 'Lemon Balm', 'Lemon tree', 'Lemon Verbena', 'Lemon Zest', 'Lemongrass', 'Lime', 'Limetta', 'Litsea Cubeba', 'Mandarin Orange', 'Mandora', 'Methyl Pamplemousse', 'Neroli', 'Orange', 'Petitgrain', 'Pomelo', 'Tangelo', 'Tangerine', 'Yuzu', 'Acai berry', 'Acerola', 'Almond', 'Apple', 'Apple juice', 'Apple pulp', 'Apple sherbet', 'Apricot', 'Arctic Bramble', 'Argan', 'Banana', 'Barberry', 'Bearberry', 'Beetroot', 'Bigarade', 'Black Currant', 'Blackberry', 'Blackthorn', 'Blueberry', 'Boysenberry', 'Brazil nut', 'Carambola (Star Fruit)', 'Carrot', 'Cashew', 'Cassowary fruit', 'Cepes', 'Chayote', 'Cherimoya', 'Cherry', 'Chestnut', 'Cloudberry', 'Coconut', 'Corn Silk', 'Cranberry', 'Cucumber', 'Cupuacu, Cupuassu, Copoasu', 'Currant leaf and bud', 'Cyperus scariosus', 'Dewberry', 'Dried Apple Crisp', 'Dried Apricot', 'Dried Fruits', 'Fig', 'Fig Leaf', 'Forest fruits', 'Frosted Berries', 'Fruity Notes', 'Genipapo', 'Goji Berries', 'Gooseberry', 'Grape Seed', 'Grapes', 'Greengage', 'Ground Cherry', 'Guarana', 'Guava', 'Hazelnut', 'Jabuticaba', 'Jackfruit', 'Japanese Loquat', 'Jobs tears (Yi Yi Ren)', 'Kiwi', 'Kumbaru', 'Lingonberry', 'Litchi', 'Longan Berries', 'Macadamia', 'Mahonia', 'Malt', 'Mango', 'Mangosteen', 'Maninka', 'Marian Plum', 'Medlar', 'Melon', 'Mirabelle', 'Moepel accord', 'Mulberry', 'Mushroom', 'Nashi Pear', 'Nectarine', 'Nutty Notes', 'Olive', 'Papaya', 'Passionfruit', 'Pea', 'Peach', 'Peanut', 'Pear', 'Pecan', 'Persimmon', 'Pineapple', 'Pinot Noir grapes', 'Pistachio', 'Pitahaya', 'Pitanga', 'Plum', 'Pomegranate', 'Pumpkin', 'Quince', 'Rambutan', 'Raspberry', 'Red Apple', 'Red Berries', 'Red Currant', 'Red Fruits', 'Rhubarb', 'Sapodilla', 'Sea Buckthorn', 'Snowberry', 'Sour Cherry', 'Soursop', 'Soybean', 'Squash', 'Star apple', 'Strawberry', 'Tayberry', 'Tomato', 'Tropical Fruits', 'Umbu-Cajá | Taperebá', 'Walnut', 'Water Fruit', 'Watermelon', 'White Currant', 'Wild Strawberry', 'Winterberry', 'Wolfberry', 'Yellow Cherry', 'Yumberry', 'Acacia', 'Acerola blossom', 'Aglaia', 'Almond Blossom', 'Althaea', 'Alumroot', 'Alyssum', 'Amarillys', 'Anemone', \"Angel's Trumpet\", 'Apple Blossom', 'Apricot Blossom', 'Ashoka Flower', 'Banana Flower', 'Begonia', 'Belladona', 'Bellflower', 'Bergamot Blossom', 'Black Currant Blossom', 'Blackberry Blossom', 'Blue Lilies', 'Blue Poppy', 'Bougainvillea', 'Bread Flower', 'Bromelia', 'Buddleia', 'Butomus umbellatus', 'Buttercup', 'Camellia', 'Cannonball Flower', 'Carambola blossom', 'Carnation', 'Celosia', 'Chamomile', 'Champaca', 'Cherry Blossom', 'Chimonanthus or Wintersweet', 'China Rose', 'Chinotto blossom', 'Chocolate Flower', 'Christmas Tree or Flame Tree', 'Chrysanthemum', 'Clematis', 'Clover', 'Coffee blossom', 'Cornflower, Sultan seeds', 'Cosmos Flower', 'Costus', 'Cotton Flower', 'Crinum lily', 'Cyclamen', 'Dahlia', 'Daisy', 'Dandelion', 'Daphne', 'deadnettle', 'Delonix', 'Desert Rose', 'Dianthus', 'Dove tree', 'Dried Rose', \"Dyer's Greenweed\", 'Edelweiss', 'Eglantine Rose', 'Elderflower', 'Encian', 'English marigold', 'Field scabious', 'Flamingo flower (Anthurium)', 'Flax', 'Floral Notes', 'Forget me not', 'Fragonia', 'Freesia', 'Fuchsia', 'Geranium', 'Gerbera', 'Gladiolus', 'Goldenrod', 'Gorse', 'grapeflower', 'Green Nard', 'Green Tea Flower', 'Guava blossom', 'Guayacan', 'Hawthorn', 'Hazel Blossom', 'Heather', 'Heliotrope', 'Hellabore Flower', 'Hemlock', 'Hibiscus', 'Hoary Stock', 'Holly Flower', 'Hollyhock', 'Honeybush or Cyclopia', 'Honeydew Blossom', 'Hortensia', 'Hoya carnosa, wax plant', 'Hyacinth', 'Hyssop', 'Impatiens', 'Iris', 'Jacaranda', 'Jade Flower', 'Jasmine Orchid', 'Jujube Blossom', 'Kadam', 'Kanuka', 'Kiwi blossom', 'Kudzu', 'Laburnum', 'Lady of the Night Flower', 'Lady Slipper Orchid', 'Lamduan Flower', 'Lamprocapnos', 'Lantana', 'Larkspur', 'Laurel Blossom', 'Lavender', 'Leatherwood', 'Liatris', 'Lilac', 'Lily-of-the-Valley', 'Lime (Linden) Blossom', 'Lotus', 'Lupin', 'Lydia Broom', 'Lysylang', 'Magnolia', 'Malva', 'Mango blossom', 'Mariposa Lily', 'Mayflower', 'Meadowsweet', 'Melilotus', 'Mignonette', 'Mimosa', 'Mimusops elengi', 'Mirabilis', 'Monarda', 'Monoi Oil', 'Morning Glory Flower', 'Myrtle', 'Narcissus', 'Nasturtium', 'Nectarine blossom', 'Nerium Oleander', 'Nigella', 'Night Blooming Jasmine', 'Olive flower', 'Opium', 'Orange Cassia Tree', 'Orchard Blossom', 'Orchid', 'Orchid Cactus', 'Ornithogalum', 'Orris Root', 'Osmanthus', 'Pansy', 'Papaya blossom', 'Paramela', 'Passion Flower', 'Pataqueira', 'Peach Blossom', 'Pear Blossom', 'Pelargonium', 'Peony', 'Periwinkle', 'Petunia', 'Phlox', 'Pineapple blossom', 'Pittosporum', 'Plum blossom', 'Poinsettia', 'Pomegranate Blossom', 'Poppy', 'Primrose', 'Princess Tree (Paulownia)', 'Privet', 'Prunella', 'Rangoon creeper', 'Raspberry blossom', 'Reseda', 'Rhododendron', 'Rosa rubiginosa', 'Rose', 'Rose Hip', 'Rose Japanese (Hamanasu)', 'Rose Mallow', 'Rosebay Willowherb', 'Safflower', 'Sainfoins', 'Sand Lily', 'Santolina', 'Silk Tree Blossom', 'Smoketree', 'Snakeroot', 'Snowdrops', 'Solomon`s seal', 'Sophora Toromiro Flower', 'Sour Cherry Blossom', 'Spanish Broom', 'Spiraea', \"St. John's Wort\", 'Strawberry Flower', 'Strelitzia', 'Strobilanthes callosa', 'Sunflower', 'Sweet Pea', 'Taif Rose', 'Tamarisk', 'Tobacco blossom', 'Trillium', 'Tulip', 'Viburnum', 'Violet', 'Violet Woodsorrel', 'Wallflower', 'Water Hyacinth', 'Water Lily', 'White Ginger Lily', 'Wildflowers', 'Wisteria', 'Wrightia', 'Ylang-Ylang', 'Yuzu Flower', 'Zinnia', 'Arum Lily', 'Black Locust', 'Boronia', 'Carissa', 'Datura', 'Frangipani', 'Gardenia', 'Grapefruit blossom', 'Honeysuckle', 'Jasmine', 'Karo-Karounde', 'Lemon Blossom', 'Lily', 'Mandarin orange blossom', 'Melati', 'Mock Orange', 'Moon Flower', 'Night Blooming Cereus', 'Orange Blossom', 'Stephanotis', 'Syringa', 'Tangerine blossom', 'Tiare Flower', 'Tuberose', 'White Flowers', 'White Tobacco', 'Agave', 'Algae', 'Aloe Vera', 'Ammophila (beach grass)', 'Angelica', 'Apple Mint', 'Arnica', 'Artemisia', 'Asparagus', 'Avocado', 'Azolla (Water Fern)', 'Banana Leaf', 'Barley', 'Basil', 'Bay essence', 'Black currant leaf', 'Blackberry leaf', 'Borage', 'Borneol', 'Bran', 'Buchu or Agathosma', 'Bulrush', 'Burdock', 'Cactus', 'Calamus', 'Calycanthus', 'Cannabis', 'Carnation leaves', 'Celery', 'Celery Seeds', 'Centella Asiatica', 'Chive', 'Cilantro', 'Clary Sage', 'Coca', 'Creosote Bush', 'Crithmum', 'Davana', 'Dried Fallen Leaves', 'Earl Grey Tea', 'Fern', 'Galbanum', 'Genmaicha', 'Ginkgo', 'Ginseng', 'Grape leaves', 'Grass', 'Green Notes', 'Green Pepper', 'Green Sap', 'Gromwell', 'Guao or Maiden Plum', 'Hay', 'Henna', 'Hops', 'Horseweed', 'Immortelle', 'Ivy', 'Jatamansi or Spikenard', 'Juniper', 'Juniper Berries', 'Katrafay', 'Katsura leaf', 'Khella', 'Laminaria', 'Lantana leaf', 'Lapsang Souchong Tea', 'Lily Of the Valley Leaves', 'Limnophila aromatica', 'Linaloe berry', 'Lovage Root', 'Marigold', 'Marjoram', 'Matcha Tea', 'Mate', 'Melilot or Sweet Clover', 'Mint', 'Mistletoe', 'Nettle', 'Nut Grass', 'Oak Leaves', 'Oat', 'Olive Leaf', 'Oolong tea', 'Orchid Leaf', 'Oregano', 'Palm leaf', 'Palmarosa', 'Pandanus', 'Parsley', 'Peach Leaf', 'Pear Leaf', 'Polygonum', 'Portulaca or Pigweed', 'Red Algae', 'Reed', 'Rice', 'Rooibos Red Tea', 'Rose Leaf', 'Rose Thorn', 'Rosemary', 'Rue', 'Rumex', 'Rye', 'Sage', 'Satureja', 'Saw palmetto', 'Seaweed', 'Shiso', 'Sideritis, Mountain tea', 'Silk Vine or Milk Broom', 'Skunk Cabbage', 'Snake Plant', 'Spinach', 'Strawberry Leaf', 'Sundew', 'Sweet Grass', 'Tansy', 'Tarragon', 'Tea', 'Thistle', 'Thyme', 'Ti Leaf (Cordyline)', 'Tobacco', 'Tomato Leaf', 'Tulsi', 'Turnera diffusa (Damiana)', 'Valerian', 'Vine', 'Violet Leaf', 'Wheat', 'Wintergreen', 'Wormwood', 'Yarrow', 'Yunnan Red Tea', 'Allspice', 'Anise', 'Asafoetida', 'Bay Leaf', 'Cacao Pod', 'Caraway', 'Cardamom', 'Cassia', 'Chutney', 'Cinnamon', 'Cinnamon Leaf', 'Clove Leaf', 'Cloves', 'Coffee', 'Coriander', 'Cubeb or Tailed pepper', 'Cumin', 'Curcuma (Turmeric)', 'Curry tree', 'Dill', 'Fennel', 'Fenugreek', 'Galanga', 'Ginger', 'Indian Spices', 'Japanese pepper', 'Licorice', 'Mace', 'Mustard Seed', 'Nutmeg', 'Oily Notes', 'Oriental notes', 'Pepper', 'Peppertree', 'Pimento', 'Pimento Leaf', 'Pimento Seeds', 'Pink Pepper', 'Priprioca', 'Saffron', 'Safraleine', 'Sesame', 'Sichuan Pepper', 'Spicy Notes', 'Star Anise', 'Sumac', 'Tamarind', 'Timur', 'Tonka Bean', 'Toscanol', 'Vanilla', 'Wan Sao Lhong', 'Wasabi', 'Water pepper', 'West Indian Bay', 'Acetyl Furan', 'Agave nectar', 'Biscuit', 'Bread', 'Brioche', 'Brown sugar', 'Bubble Gum', 'Butter', 'Butterscotch', \"Calissons d'Aix\", 'Candied Fruits', 'Candied Ginger', 'Candied Orange', 'Candies', 'Canelé', 'Caramel', 'Coconut Pie', 'Confetti (Sugared Almonds)', 'Cookie', 'Cotton Candy', 'Cream', 'Crème brûlée', 'Croissant', 'Cupcake', 'Custard', 'Dark Chocolate', 'Dates', 'Dulce de leche', 'French pastries', 'Frosting [Glacé]', 'Gianduia', 'Gingerbread', 'Halva', 'Hazelnut cocoa spread', 'Honey', 'Honeycomb', 'Horchata', 'Ice cream', 'Icing pink', 'Jelly', 'Kulfi', 'Loukhoum', 'Macarons', 'Maple syrup', 'Maraschino Cherry', 'Marmalade', 'Marron glacé', 'Marshmallow', 'Marzipan', 'Meringues', 'Milk Mousse', 'Molasses', 'Nougat', 'Panettone', 'Panna cotta', 'Pear Ice Cream', 'Popcorn', 'Praline', 'Profiterole', 'Rainbow Sorbet', 'Rice Pudding', 'Rose Jam', 'Sorbet', 'Spun sugar', 'Strawberry Syrup', 'Sugar', 'Tiramisu', 'Toffee', 'Waffle', 'White Chocolate', 'Yogurt', 'Zefir', 'Agarwood (Oud)', 'Akigalawood', 'Alder', 'Almond tree', 'Amaranth', 'Amyris', 'Apple Tree', 'Araucaria', 'Arbutus (Madrona, Bearberry tree)', 'Argan Tree', 'Aspen', 'Bamboo', 'Baobab', 'Bark', 'Beech', 'Belambra tree', 'Birch', 'Black hemlock or Tsuga', 'Black Spruce', 'Blackwood', 'Brazilian Rosewood', 'Buddha Wood', 'Buxus', 'Cabreuva', 'Cambodian Oud', 'Canadian Balsam', 'Carob tree', 'Cascarilla', 'Cashmir wood', 'Cedar', 'Chalood Bark', 'Cherry Tree', 'Clearwood', 'Cocobolo', 'Coffee Tree', 'Cork', 'Cottonwood (Poplar)', 'Cypress', 'Cypriol Oil or Nagarmotha', 'Driftwood', 'Dry Wood', 'Ebony tree', 'Eucalyptus', 'Fig tree', 'Fir', 'Grass Tree', 'Guaiac Wood', 'Hinoki Wood', 'Ho Wood', 'Incienso', 'Indian Oud', 'Indian woods', 'Ishpink, Ocotea quixos', 'Kowhai', 'Laotian Oud', 'Larch', 'Lichen', 'Mahogany', 'Manuka', 'Maple', 'Massoia', 'Mesquite Wood', 'Muhuhu', 'Neem', 'Nootka', 'Oak', 'Oakmoss', 'Olive Tree', 'Palisander Rosewood', 'Palo Santo', 'Paperbark', 'Papyrus', 'Patchouli', 'Pear Tree', 'Pepperwood or Hercules Club', 'Pine Tree', 'Plum Tree', 'Pua keni keni (Pua-lulu)', 'Ravenala', 'Ravensara', 'Red Willow', 'Saman', 'Sandalwood', 'Satinwood', 'Sequoia', 'Siam', 'Spruce', 'Sycamore', 'Takamaka', 'Teak Wood', 'Thailand Oud', 'Thuja', 'Vetiver', 'White Oud', 'White Willow', 'Woody Notes', 'Yohimbe', 'Amberwood', 'Balsamic Vinegar', 'Benzoin', 'Birch Tar', 'Breu-Branco', 'Bushman Candle', 'Cade oil', 'Choya Loban', 'Choya Nakh', 'Choya Ral', 'Coal Tar', 'Copahu Balm', 'Copaiba balm', 'Copal', 'Dragon Blood Resin', 'Elemi', 'Gurjun balsam', 'Incense', 'Labdanum', 'Mastic or Lentisque', 'Mopane', 'Myrica', 'Myrrh', 'Nag Champa', 'Olibanum (Frankincense)', 'Opoponax', 'Peru Balsam', 'Poplar (Populus) buds', 'Resins', 'Rubber', 'Styrax', 'Surf wax', 'Tea Tree Oil', 'Amber', 'Amber Xtreme', 'Ambergris', 'Ambertonic™ (IFF)', 'Ambrarome', 'Ambretone', 'Ambrette (Musk Mallow)', 'Ambrettolide', 'Ambrocenide (Symrise)', 'Ambroxan', 'Animal notes', 'Aspic', 'Bacon', 'BBQ', 'Beeswax', 'Carrot Seeds', 'Castoreum', 'Caviar', 'Cetalox', 'Cheese', 'Civet', 'Coral Reef', 'Daim', 'Genet', 'Goat hair', 'Hyraceum', 'Kephalis', 'Leather', 'Meat', 'Milk', 'Musk', 'Oysters', 'Sea shells', 'Skin', 'Starfish', 'Suede', 'Sylkolide', 'Tolu Balsam', 'Truffle', 'Absinthe', 'Amaretto', 'Baileys Irish Cream', 'Beer/Ale', 'Bellini', 'Blue Margarita', 'Bourbon Whiskey', 'Caipirinha', 'Campari', 'Cappuccino', 'Champagne', 'Chinotto', 'Coca-Cola', 'Cognac', 'Cognac', 'Cosmopolitan cocktail', 'Cream Soda', 'Curacao', 'Daiquiri', 'Eau de vie', 'Gin', 'Grenadine', 'Hi-Fi', 'Jasmine Tea', 'Kir Royal', 'Lemonade', 'Limoncello', 'Liquor', 'Madeira', 'Mai Tai Cocktail', 'Martini', 'Masala Chai', 'Mojito', 'Pina Colada', 'Pisco Sour cocktail', 'Port Wine', 'Prosecco', 'Punch', 'Raki', 'Red Wine', 'Rum', 'sake', 'Sangria', 'Syrup', 'Tequila', 'Tokaji wine', 'Tonic Water', 'Vermouth', 'Vodka', 'Whiskey', 'White wine', 'Wine Lees', 'Aldehydes', 'Aluminum', 'Ammonia', 'Amyl Salicylate', 'Aquozone', 'Ash', 'Asphalt', 'Blood', 'Boisiris', 'Brick', 'Brown Scotch Tape', 'Burnt Match', 'Calone', 'Calypsone', 'Camphor', 'Caoutchouc', 'Cascalone', 'Cashmeran', 'Clay', 'CO2 Extracts', 'Coal', 'Cobblestone', 'Concrete', 'Coranol', 'Cork', 'Cosmone', 'Coumarin', 'Dew Drop', 'Dihydromyrcenol', 'Dodecanal', 'Earth tincture', 'Earthy Notes', 'Ember', 'Ethyl Maltol', 'Eugenol', 'Fabric', 'Fire', 'Fish', 'Flint', 'Galaxolide', 'Gasoline', 'Geosmin', 'Graphite', 'Gunpowder', 'Head Space Waterfall', 'Hedione', 'Hina', 'Hot iron', 'Ice', 'Indole', 'Industrial Glue', 'Ink', 'Instant film accord', 'Iso E Super', 'Isobutyl Quinoline', 'Javanol', 'Jeans', 'Lava', 'Linen', 'Lip gloss', 'Lipstick', 'Lorenox', 'Magnolan', 'Mahonial', 'Metallic notes', 'Mineral notes', 'Mitti Attar', 'Molasses', 'Motor Oil', 'Mountain Air', 'Mugane', 'NaturalCalm™', 'Neoprene', 'Ozonic notes', 'Paper', 'Para-Cresyl Phenyl Acetate', 'Paradisone', 'Peat', 'Pebbles', 'Petalia', 'Plastic', 'Pollen', 'Pomarose', 'Powdery notes', 'Rain Notes', 'Salt', 'Sand', 'Satin', 'Sea Water', 'Silk', 'Slate', 'Smoke', 'Snow', 'Soap', 'Sodium Silicate', 'Solar notes', 'Spiranol', 'Spray paint', 'Stone', 'Sulphur', 'Suntan Lotion', 'Talc', 'Tennis ball', 'Tulle accord', 'Vanillin', 'Varnish accord', 'Velvet', 'Verdox', 'Vinyl', 'Water', 'Wet plaster', 'Wool', 'Yeast']\n"
     ]
    }
   ],
   "source": [
    "#print(note_image)\n",
    "print(note_name)"
   ]
  },
  {
   "cell_type": "code",
   "execution_count": 33,
   "id": "taken-collection",
   "metadata": {
    "scrolled": true
   },
   "outputs": [
    {
     "data": {
      "text/html": [
       "<div>\n",
       "<style scoped>\n",
       "    .dataframe tbody tr th:only-of-type {\n",
       "        vertical-align: middle;\n",
       "    }\n",
       "\n",
       "    .dataframe tbody tr th {\n",
       "        vertical-align: top;\n",
       "    }\n",
       "\n",
       "    .dataframe thead th {\n",
       "        text-align: right;\n",
       "    }\n",
       "</style>\n",
       "<table border=\"1\" class=\"dataframe\">\n",
       "  <thead>\n",
       "    <tr style=\"text-align: right;\">\n",
       "      <th></th>\n",
       "      <th>Note Name</th>\n",
       "      <th>Note Image</th>\n",
       "    </tr>\n",
       "  </thead>\n",
       "  <tbody>\n",
       "    <tr>\n",
       "      <th>0</th>\n",
       "      <td>Bergamot</td>\n",
       "      <td>https://fimgs.net/mdimg/sastojci/m.75.jpg?1441...</td>\n",
       "    </tr>\n",
       "    <tr>\n",
       "      <th>1</th>\n",
       "      <td>Bitter Orange</td>\n",
       "      <td>https://fimgs.net/mdimg/sastojci/m.79.jpg?1440...</td>\n",
       "    </tr>\n",
       "    <tr>\n",
       "      <th>2</th>\n",
       "      <td>Blood Orange</td>\n",
       "      <td>https://fimgs.net/mdimg/sastojci/m.286.jpg?144...</td>\n",
       "    </tr>\n",
       "    <tr>\n",
       "      <th>3</th>\n",
       "      <td>Calamansi</td>\n",
       "      <td>https://fimgs.net/mdimg/sastojci/m.1028.jpg?15...</td>\n",
       "    </tr>\n",
       "    <tr>\n",
       "      <th>4</th>\n",
       "      <td>Chinotto</td>\n",
       "      <td>https://fimgs.net/mdimg/sastojci/m.866.jpg?159...</td>\n",
       "    </tr>\n",
       "    <tr>\n",
       "      <th>...</th>\n",
       "      <td>...</td>\n",
       "      <td>...</td>\n",
       "    </tr>\n",
       "    <tr>\n",
       "      <th>1007</th>\n",
       "      <td>Vinyl</td>\n",
       "      <td>https://fimgs.net/mdimg/sastojci/m.499.jpg?144...</td>\n",
       "    </tr>\n",
       "    <tr>\n",
       "      <th>1008</th>\n",
       "      <td>Water</td>\n",
       "      <td>https://fimgs.net/mdimg/sastojci/m.370.jpg?144...</td>\n",
       "    </tr>\n",
       "    <tr>\n",
       "      <th>1009</th>\n",
       "      <td>Wet plaster</td>\n",
       "      <td>https://fimgs.net/mdimg/sastojci/m.607.jpg?144...</td>\n",
       "    </tr>\n",
       "    <tr>\n",
       "      <th>1010</th>\n",
       "      <td>Wool</td>\n",
       "      <td>https://fimgs.net/mdimg/sastojci/m.830.jpg?159...</td>\n",
       "    </tr>\n",
       "    <tr>\n",
       "      <th>1011</th>\n",
       "      <td>Yeast</td>\n",
       "      <td>https://fimgs.net/mdimg/sastojci/m.1081.jpg?16...</td>\n",
       "    </tr>\n",
       "  </tbody>\n",
       "</table>\n",
       "<p>1012 rows × 2 columns</p>\n",
       "</div>"
      ],
      "text/plain": [
       "          Note Name                                         Note Image\n",
       "0          Bergamot  https://fimgs.net/mdimg/sastojci/m.75.jpg?1441...\n",
       "1     Bitter Orange  https://fimgs.net/mdimg/sastojci/m.79.jpg?1440...\n",
       "2      Blood Orange  https://fimgs.net/mdimg/sastojci/m.286.jpg?144...\n",
       "3         Calamansi  https://fimgs.net/mdimg/sastojci/m.1028.jpg?15...\n",
       "4          Chinotto  https://fimgs.net/mdimg/sastojci/m.866.jpg?159...\n",
       "...             ...                                                ...\n",
       "1007          Vinyl  https://fimgs.net/mdimg/sastojci/m.499.jpg?144...\n",
       "1008          Water  https://fimgs.net/mdimg/sastojci/m.370.jpg?144...\n",
       "1009    Wet plaster  https://fimgs.net/mdimg/sastojci/m.607.jpg?144...\n",
       "1010           Wool  https://fimgs.net/mdimg/sastojci/m.830.jpg?159...\n",
       "1011          Yeast  https://fimgs.net/mdimg/sastojci/m.1081.jpg?16...\n",
       "\n",
       "[1012 rows x 2 columns]"
      ]
     },
     "execution_count": 33,
     "metadata": {},
     "output_type": "execute_result"
    }
   ],
   "source": [
    "notes_df = pd.DataFrame()\n",
    "\n",
    "notes_df[\"Note Name\"] = note_name\n",
    "notes_df[\"Note Image\"] = note_image\n",
    "\n",
    "notes_df"
   ]
  },
  {
   "cell_type": "code",
   "execution_count": 34,
   "id": "august-yorkshire",
   "metadata": {},
   "outputs": [],
   "source": [
    "notes_df.to_csv(\"all_notes.csv\")"
   ]
  },
  {
   "cell_type": "code",
   "execution_count": null,
   "id": "included-beginning",
   "metadata": {},
   "outputs": [],
   "source": []
  }
 ],
 "metadata": {
  "kernelspec": {
   "display_name": "Python 3",
   "language": "python",
   "name": "python3"
  },
  "language_info": {
   "codemirror_mode": {
    "name": "ipython",
    "version": 3
   },
   "file_extension": ".py",
   "mimetype": "text/x-python",
   "name": "python",
   "nbconvert_exporter": "python",
   "pygments_lexer": "ipython3",
   "version": "3.6.12"
  }
 },
 "nbformat": 4,
 "nbformat_minor": 5
}
