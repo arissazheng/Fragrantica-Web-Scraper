{
 "cells": [
  {
   "cell_type": "code",
   "execution_count": 80,
   "metadata": {
    "scrolled": false
   },
   "outputs": [],
   "source": [
    "from splinter import Browser\n",
    "from bs4 import BeautifulSoup as bs\n",
    "import time\n",
    "from webdriver_manager.chrome import ChromeDriverManager\n",
    "import requests\n",
    "import pandas as pd\n",
    "import re\n",
    "import selenium\n",
    "from pandas import DataFrame\n",
    "import json"
   ]
  },
  {
   "cell_type": "code",
   "execution_count": 86,
   "metadata": {
    "scrolled": false
   },
   "outputs": [],
   "source": [
    "def init_browser():\n",
    "    # @NOTE: Replace the path with your actual path to the chromedriver\n",
    "    executable_path = {\"executable_path\": ChromeDriverManager().install()}\n",
    "    return Browser(\"chrome\", **executable_path, headless=False)"
   ]
  },
  {
   "cell_type": "code",
   "execution_count": 87,
   "metadata": {
    "scrolled": false
   },
   "outputs": [
    {
     "name": "stderr",
     "output_type": "stream",
     "text": [
      "[WDM] - Current google-chrome version is 88.0.4324\n",
      "[WDM] - Get LATEST driver version for 88.0.4324\n",
      "[WDM] - Driver [C:\\Users\\kaldm\\.wdm\\drivers\\chromedriver\\win32\\88.0.4324.96\\chromedriver.exe] found in cache\n"
     ]
    },
    {
     "name": "stdout",
     "output_type": "stream",
     "text": [
      " \n"
     ]
    }
   ],
   "source": [
    "browser = init_browser()\n",
    "url = \"https://www.fragrantica.com/search/\"\n",
    "browser.visit(url)"
   ]
  },
  {
   "cell_type": "code",
   "execution_count": 88,
   "metadata": {},
   "outputs": [],
   "source": [
    "# Start over whenever you change years or after error troubleshooting \n",
    "html = browser.html\n",
    "soup = bs(html, \"html.parser\")"
   ]
  },
  {
   "cell_type": "code",
   "execution_count": 41,
   "metadata": {},
   "outputs": [],
   "source": [
    "#  DO NOT RUN THIS \n",
    "# list_of_perfume_dicts = []"
   ]
  },
  {
   "cell_type": "code",
   "execution_count": 45,
   "metadata": {},
   "outputs": [
    {
     "name": "stdout",
     "output_type": "stream",
     "text": [
      "[{'name': \"Angels' Share\", 'company': 'By Kilian', 'image': 'https://fimgs.net/mdimg/perfume/375x500.62615.jpg', 'for_gender': 'for women and men', 'rating': 4.31, 'number_votes': 682, 'main accords': {'woody': 100.0, 'sweet': 92.6987, 'warm spicy': 89.4303, 'vanilla': 78.3058, 'cinnamon': 67.3313, 'amber': 52.084, 'powdery': 46.3568, 'lactonic': 44.7526, 'aromatic': 44.5877}, 'description': \"Angels' Share by By Kilian is a Oriental Vanilla fragrance for women and men. This is a new fragrance. Angels' Share was launched in 2020. The nose behind this fragrance is Benoist Lapouza. Top note is Cognac; middle notes are Cinnamon, Tonka Bean and Oak; base notes are Praline, Vanilla and Sandalwood.  Read about this perfume in other languages: Deutsch, Español, Français, Italiano, Русский, Polski, Português, Ελληνικά, 汉语, Nederlands, Srpski, Română, العربية, Українська, Монгол, עברית.\", 'top notes': ['Cognac'], 'middle notes': ['Cinnamon', 'Tonka Bean', 'Oak'], 'base notes': ['Praline', 'Vanilla', 'Sandalwood'], 'longevity': {'very weak': 21, 'weak': 17, 'moderate': 107, 'long lasting': 184, 'eternal': 78}, 'sillage': {'intimate': 40, 'moderate': 187, 'strong': 157, 'enormous': 79}, 'gender_vote': {'female': 40, 'more female': 39, 'unisex': 226, 'more male': 51, 'male': 20}, 'price value': {'way overpriced': 64, 'overpriced': 143, 'ok': 98, 'good value': 27, 'great value': 11}}, {'name': 'My Way', 'company': 'Giorgio Armani', 'image': 'https://fimgs.net/mdimg/perfume/375x500.62036.jpg', 'for_gender': 'for women', 'rating': 3.57, 'number_votes': 1471, 'main accords': {'white floral': 100.0, 'citrus': 60.4322, 'tuberose': 59.0888, 'animalic': 46.7757}, 'description': 'My Way by Giorgio Armani is a Floral fragrance for women. This is a new fragrance. My Way was launched in 2020. My Way was created by Carlos Benaim and Bruno Jovanovic. Top notes are Orange Blossom and Bergamot; middle notes are Tuberose and Indian Jasmine; base notes are White Musk, Madagascar Vanilla and Virginian Cedar.  Read about this perfume in other languages: Deutsch, Español, Français, Italiano, Русский, Polski, Português, Ελληνικά, 汉语, Nederlands, Srpski, Română, العربية, Українська, Монгол, עברית.', 'top notes': ['Orange Blossom', 'Bergamot'], 'middle notes': ['Tuberose', 'Indian Jasmine'], 'base notes': ['White Musk', 'Madagascar Vanilla', 'Virginian Cedar'], 'longevity': {'very weak': 49, 'weak': 84, 'moderate': 200, 'long lasting': 216, 'eternal': 89}, 'sillage': {'intimate': 127, 'moderate': 322, 'strong': 251, 'enormous': 221}, 'gender_vote': {'female': 349, 'more female': 21, 'unisex': 4, 'more male': 0, 'male': 0}, 'price value': {'way overpriced': 38, 'overpriced': 121, 'ok': 125, 'good value': 26, 'great value': 8}}, {'name': 'Libre Intense', 'company': 'Yves Saint Laurent', 'image': 'https://fimgs.net/mdimg/perfume/375x500.62318.jpg', 'for_gender': 'for women', 'rating': 4.02, 'number_votes': 858, 'main accords': {'vanilla': 100.0, 'aromatic': 71.4216, 'sweet': 69.9134, 'white floral': 69.338, 'lavender': 69.1826, 'amber': 68.4051, 'citrus': 67.861, 'powdery': 48.7517, 'floral': 48.5651, 'fresh spicy': 47.8188}, 'description': 'Libre Intense by Yves Saint Laurent is a Oriental Fougere fragrance for women. This is a new fragrance. Libre Intense was launched in 2020. Libre Intense was created by Anne Flipo and Carlos Benaim. Top notes are Lavender, Mandarin Orange and Bergamot; middle notes are Lavender, Tunisian Orange Blossom, Jasmine Sambac and Orchid; base notes are Madagascar Vanilla, Tonka Bean, Ambergris and Vetiver. Yves Saint Laurent presents a new version of Libre fragrance from 2019, ie. an intense version of this modern feminine fougere. Libre Eau de Parfum Intense is a perfume of \"an intense woman living her roaring freedom and following her instincts,” coming out in August 2020. Libre Intense illuminates a new fragrant shade, described as that between fire and gold. Her \"masculine signature\" was done in a \"feminine way\". \"A fragrance like a shout of freedom – the freedom to live everything with excess.\" Top notes: mandarin essence, French lavender essence, bergamot essence\\xa0\\nHeart: Diva lavender heart, sambac jasmine absolute, orange blossom absolute from Morocco, living orchid accord\\nBase: vanilla extract from Madagascar, vetiver essence, ambergris, tonka absolute from Venezuela The Libre bottle is made like a geometric silhouette in a tuxedo, with a large house monogram. The face of the perfume is singer Dua Lipa. The fragrance is available as a 30, 50 and 90 ml Eau de Parfum Intense. Read about this perfume in other languages: Deutsch, Español, Français, Italiano, Русский, Polski, Português, Ελληνικά, 汉语, Nederlands, Srpski, Română, العربية, Українська, Монгол, עברית.', 'top notes': ['Lavender', 'Mandarin Orange', 'Bergamot'], 'middle notes': ['Lavender', 'Tunisian Orange Blossom', 'Jasmine Sambac', 'Orchid'], 'base notes': ['Madagascar Vanilla', 'Tonka Bean', 'Ambergris', 'Vetiver'], 'longevity': {'very weak': 24, 'weak': 12, 'moderate': 103, 'long lasting': 212, 'eternal': 84}, 'sillage': {'intimate': 39, 'moderate': 155, 'strong': 237, 'enormous': 131}, 'gender_vote': {'female': 162, 'more female': 91, 'unisex': 70, 'more male': 8, 'male': 2}, 'price value': {'way overpriced': 11, 'overpriced': 59, 'ok': 136, 'good value': 35, 'great value': 6}}, {'name': 'Dior Homme 2020', 'company': 'Christian Dior', 'image': 'https://fimgs.net/mdimg/perfume/375x500.58714.jpg', 'for_gender': 'for men', 'rating': 3.42, 'number_votes': 1402, 'main accords': {'woody': 100.0, 'musky': 72.7229, 'amber': 53.4101, 'aromatic': 51.5617}, 'description': 'Dior Homme 2020 by Christian Dior is a Woody fragrance for men. This is a new fragrance. Dior Homme 2020 was launched in 2020. The nose behind this fragrance is Francois Demachy. Top notes are Bergamot, Pink Pepper and elemi; middle notes are Cashmere Wood, Atlas Cedar and Patchouli; base notes are Iso E Super, Haitian Vetiver and White Musk. Dior Homme, a powdery iris and woody scent for men, was introduced in the original version in 2005 and then later came the new 2011 version. The 2020 version of Dior Homme Eau de Toilette is announced with the slogan \"I\\'m Your Man.\" The 2011 edition remains on the shelves under the name, Dior Homme Original. The new Dior Homme is created by Dior in-house perfumer Francois Demachy who wanted to redefine masculine sensuality. The fragrance is intensely woody, warm, and sensual. A virile accord of Atlas cedar and the warmth of cashmere wood are pampered with spicy aromas.\\xa0 \"This new Dior Homme has an unmistakably virile signature that does not prevent it from developing tender, sensual accents. It basically draws the portrait of a modern man.\" François Demachy, Dior Perfumer-Creator According to the perfumer, this is a fragrance overdosed with carnal woody notes, and it represents a return to the basics: classic and simplicity. It is clear, clean, gentle, and woody but also slightly sweet, and wears like a second skin. The new bottle follows the architectural design of its predecessors, with a more prominent logo and perfume name on the plug. The face of the advertising campaign remains actor Robert Pattinson. Dior Homme is available as a 50 and 100 ml Eau de Toilette with the accompanying grooming line, now available in new packaging. Read about this perfume in other languages: Deutsch, Español, Français, Italiano, Русский, Polski, Português, Ελληνικά, 汉语, Nederlands, Srpski, Română, العربية, Українська, Монгол, עברית.', 'top notes': ['Bergamot', 'Pink Pepper', 'elemi'], 'middle notes': ['Cashmere Wood', 'Atlas Cedar', 'Patchouli'], 'base notes': ['Iso E Super', 'Haitian Vetiver', 'White Musk'], 'longevity': {'very weak': 125, 'weak': 83, 'moderate': 174, 'long lasting': 288, 'eternal': 77}, 'sillage': {'intimate': 214, 'moderate': 370, 'strong': 189, 'enormous': 151}, 'gender_vote': {'female': 3, 'more female': 1, 'unisex': 17, 'more male': 56, 'male': 199}, 'price value': {'way overpriced': 31, 'overpriced': 59, 'ok': 134, 'good value': 33, 'great value': 3}}, {'name': 'Acqua di Giò Profondo', 'company': 'Giorgio Armani', 'image': 'https://fimgs.net/mdimg/perfume/375x500.59532.jpg', 'for_gender': 'for men', 'rating': 4.03, 'number_votes': 869, 'main accords': {'aromatic': 100.0, 'marine': 93.2493, 'citrus': 79.7199, 'fresh spicy': 68.3193, 'woody': 67.7451, 'fresh': 62.493, 'mineral': 58.0112, 'musky': 45.126, 'salty': 44.902, 'patchouli': 44.4258}, 'description': 'Acqua di Giò Profondo by Giorgio Armani is a Aromatic Fougere fragrance for men. This is a new fragrance. Acqua di Giò Profondo was launched in 2020. The nose behind this fragrance is Alberto Morillas. Top notes are Sea Notes, Aquozone, Bergamot and Green Mandarin; middle notes are Rosemary, Cypress, Lavender and Mastic or Lentisque; base notes are Mineral notes, Musk, Patchouli and Amber.  Read about this perfume in other languages: Deutsch, Español, Français, Italiano, Русский, Polski, Português, Ελληνικά, 汉语, Nederlands, Srpski, Română, العربية, Українська, Монгол, עברית.', 'top notes': ['Sea Notes', 'Aquozone', 'Bergamot', 'Green Mandarin'], 'middle notes': ['Rosemary', 'Cypress', 'Lavender', 'Mastic or Lentisque'], 'base notes': ['Mineral notes', 'Musk', 'Patchouli', 'Amber'], 'longevity': {'very weak': 59, 'weak': 66, 'moderate': 188, 'long lasting': 221, 'eternal': 35}, 'sillage': {'intimate': 115, 'moderate': 333, 'strong': 183, 'enormous': 106}, 'gender_vote': {'female': 3, 'more female': 0, 'unisex': 5, 'more male': 71, 'male': 151}, 'price value': {'way overpriced': 32, 'overpriced': 84, 'ok': 80, 'good value': 21, 'great value': 4}}, {'name': 'Le Male Le Parfum', 'company': 'Jean Paul Gaultier', 'image': 'https://fimgs.net/mdimg/perfume/375x500.61856.jpg', 'for_gender': 'for men', 'rating': 4.26, 'number_votes': 690, 'main accords': {'warm spicy': 100.0, 'vanilla': 72.2173, 'aromatic': 60.6231, 'lavender': 58.2483, 'amber': 58.2173, 'powdery': 56.8204, 'iris': 53.592, 'woody': 53.3437}, 'description': 'Le Male Le Parfum by Jean Paul Gaultier is a Oriental fragrance for men. This is a new fragrance. Le Male Le Parfum was launched in 2020. Le Male Le Parfum was created by Quentin Bisch and Nathalie Gracia-Cetto. Top note is Cardamom; middle notes are Lavender and iris; base notes are Vanilla, Oriental notes and Woodsy Notes.  Read about this perfume in other languages: Deutsch, Español, Français, Italiano, Русский, Polski, Português, Ελληνικά, 汉语, Nederlands, Srpski, Română, العربية, Українська, Монгол, עברית.', 'top notes': ['Cardamom'], 'middle notes': ['Lavender', 'iris'], 'base notes': ['Vanilla', 'Oriental notes', 'Woodsy Notes'], 'longevity': {'very weak': 18, 'weak': 31, 'moderate': 129, 'long lasting': 252, 'eternal': 77}, 'sillage': {'intimate': 80, 'moderate': 262, 'strong': 175, 'enormous': 115}, 'gender_vote': {'female': 3, 'more female': 2, 'unisex': 39, 'more male': 132, 'male': 154}, 'price value': {'way overpriced': 13, 'overpriced': 46, 'ok': 154, 'good value': 70, 'great value': 7}}, {'name': 'Beau De Jour Eau de Parfum', 'company': 'Tom Ford', 'image': 'https://fimgs.net/mdimg/perfume/375x500.59064.jpg', 'for_gender': 'for men', 'rating': 4.25, 'number_votes': 729, 'main accords': {'aromatic': 100.0, 'fresh spicy': 94.7562, 'lavender': 68.1606, 'woody': 62.7869, 'patchouli': 56.0894, 'green': 56.0375, 'earthy': 54.0645, 'mossy': 49.4697, 'amber': 49.0803, 'herbal': 48.1717}, 'description': 'Beau De Jour Eau de Parfum by Tom Ford is a Aromatic Fougere fragrance for men. This is a new fragrance. Beau De Jour Eau de Parfum was launched in 2020. Top notes are Lavender Extract and Lavender; middle notes are Rosemary, Oakmoss, Mint, Basil and Geranium; base notes are Patchouli and Amber.  Read about this perfume in other languages: Deutsch, Español, Français, Italiano, Русский, Polski, Português, Ελληνικά, 汉语, Nederlands, Srpski, Română, العربية, Українська, Монгол, עברית.', 'top notes': ['Lavender Extract', 'Lavender'], 'middle notes': ['Rosemary', 'Oakmoss', 'Mint', 'Basil', 'Geranium'], 'base notes': ['Patchouli', 'Amber'], 'longevity': {'very weak': 30, 'weak': 19, 'moderate': 88, 'long lasting': 203, 'eternal': 59}, 'sillage': {'intimate': 45, 'moderate': 190, 'strong': 194, 'enormous': 112}, 'gender_vote': {'female': 1, 'more female': 0, 'unisex': 15, 'more male': 25, 'male': 145}, 'price value': {'way overpriced': 14, 'overpriced': 52, 'ok': 83, 'good value': 20, 'great value': 4}}, {'name': 'Angel Nova', 'company': 'Mugler', 'image': 'https://fimgs.net/mdimg/perfume/375x500.61519.jpg', 'for_gender': 'for women', 'rating': 3.54, 'number_votes': 814, 'main accords': {'fruity': 100.0, 'rose': 65.8115, 'sweet': 61.6736, 'oud': 57.181, 'woody': 54.1609, 'tropical': 51.216, 'warm spicy': 49.3889, 'amber': 44.6169, 'fresh': 44.144}, 'description': 'Angel Nova by Mugler is a Oriental Floral fragrance for women. This is a new fragrance. Angel Nova was launched in 2020. Angel Nova was created by Sonia Constant, Louise Turner and Quentin Bisch. Top notes are Raspberry and Litchi; middle note is Damask Rose; base notes are Akigalawood and Benzoin. Mugler introduces the new heroine of the Angel line in June 2020, called Angel Nova. Angel Nova is announced as an assertive, irresistible and daring fragrance for the modern heroine and the Mugler universe that combines dream, fantasy and reality. The slogan of the perfume calls for you to \"live up to your dreams.\" The woody-fruity-floral composition is born from a fusion of \"addictive\" raspberry fruity note, sensual accord of \"super-natural\" Damask rose and woody structure of akigalawood and benzoin, for Mugler’s distinctive perfume signature. The face of the perfume is German model Toni Garrn. The bottle remains star-shaped (which is now \"standing\") in a bright, raspberry pink color. Mugler Angel Nova is available as a 30 and 50 ml Eau de Parfum. Read about this perfume in other languages: Deutsch, Español, Français, Italiano, Русский, Polski, Português, Ελληνικά, 汉语, Nederlands, Srpski, Română, العربية, Українська, Монгол, עברית.', 'top notes': ['Raspberry', 'Litchi'], 'middle notes': ['Damask Rose'], 'base notes': ['Akigalawood', 'Benzoin'], 'longevity': {'very weak': 29, 'weak': 36, 'moderate': 112, 'long lasting': 153, 'eternal': 74}, 'sillage': {'intimate': 55, 'moderate': 167, 'strong': 203, 'enormous': 168}, 'gender_vote': {'female': 184, 'more female': 26, 'unisex': 9, 'more male': 4, 'male': 1}, 'price value': {'way overpriced': 10, 'overpriced': 41, 'ok': 107, 'good value': 20, 'great value': 14}}, {'name': \"L'Interdit Eau de Parfum Intense\", 'company': 'Givenchy', 'image': 'https://fimgs.net/mdimg/perfume/375x500.62491.jpg', 'for_gender': 'for women', 'rating': 4.08, 'number_votes': 596, 'main accords': {'white floral': 100.0, 'vanilla': 83.8462, 'tuberose': 77.9933, 'patchouli': 60.6689, 'woody': 60.2007, 'aromatic': 57.0636, 'warm spicy': 54.9799, 'fresh spicy': 54.1137, 'earthy': 52.3813, 'animalic': 50.7191}, 'description': \"L'Interdit Eau de Parfum Intense by Givenchy is a Oriental Floral fragrance for women. This is a new fragrance. L'Interdit Eau de Parfum Intense was launched in 2020. L'Interdit Eau de Parfum Intense was created by Dominique Ropion, Anne Flipo and Fanny Bal. Top note is Black Pepper; middle notes are Tuberose, Sesame and Orange Blossom; base notes are Madagascar Vanilla, Patchouli and Vetiver.  Read about this perfume in other languages: Deutsch, Español, Français, Italiano, Русский, Polski, Português, Ελληνικά, 汉语, Nederlands, Srpski, Română, العربية, Українська, Монгол, עברית.\", 'top notes': ['Black Pepper'], 'middle notes': ['Tuberose', 'Sesame', 'Orange Blossom'], 'base notes': ['Madagascar Vanilla', 'Patchouli', 'Vetiver'], 'longevity': {'very weak': 14, 'weak': 19, 'moderate': 65, 'long lasting': 134, 'eternal': 49}, 'sillage': {'intimate': 36, 'moderate': 132, 'strong': 119, 'enormous': 122}, 'gender_vote': {'female': 122, 'more female': 24, 'unisex': 21, 'more male': 2, 'male': 1}, 'price value': {'way overpriced': 10, 'overpriced': 26, 'ok': 77, 'good value': 21, 'great value': 6}}, {'name': \"L'Homme Idéal Extrême\", 'company': 'Guerlain', 'image': 'https://fimgs.net/mdimg/perfume/375x500.60284.jpg', 'for_gender': 'for men', 'rating': 4.38, 'number_votes': 434, 'main accords': {'fruity': 100.0, 'sweet': 92.2085, 'almond': 90.6687, 'tobacco': 69.4193, 'leather': 66.6476, 'nutty': 60.4884, 'warm spicy': 60.1804, 'cinnamon': 57.7167, 'woody': 52.3889, 'powdery': 49.1861}, 'description': \"L'Homme Idéal Extrême by Guerlain is a Oriental Woody fragrance for men. This is a new fragrance. L'Homme Idéal Extrême was launched in 2020. The nose behind this fragrance is Thierry Wasser. Top notes are Almond, Pink Pepper and Bergamot; middle notes are Plum, Cinnamon and Heliotrope; base notes are Tobacco, Leather, Patchouli and Cedar.  Read about this perfume in other languages: Deutsch, Español, Français, Italiano, Русский, Polski, Português, Ελληνικά, 汉语, Nederlands, Srpski, Română, العربية, Українська, Монгол, עברית.\", 'top notes': ['Almond', 'Pink Pepper', 'Bergamot'], 'middle notes': ['Plum', 'Cinnamon', 'Heliotrope'], 'base notes': ['Tobacco', 'Leather', 'Patchouli', 'Cedar'], 'longevity': {'very weak': 19, 'weak': 33, 'moderate': 87, 'long lasting': 127, 'eternal': 45}, 'sillage': {'intimate': 42, 'moderate': 174, 'strong': 122, 'enormous': 87}, 'gender_vote': {'female': 6, 'more female': 1, 'unisex': 16, 'more male': 77, 'male': 85}, 'price value': {'way overpriced': 5, 'overpriced': 25, 'ok': 76, 'good value': 57, 'great value': 6}}, {'name': 'Bitter Peach', 'company': 'Tom Ford', 'image': 'https://fimgs.net/mdimg/perfume/375x500.62707.jpg', 'for_gender': 'for women and men', 'rating': 3.54, 'number_votes': 429, 'main accords': {'woody': 100.0, 'warm spicy': 77.6476, 'fruity': 73.896, 'amber': 72.1213, 'powdery': 66.5725, 'sweet': 65.2696, 'vanilla': 63.8767, 'balsamic': 56.8453, 'citrus': 56.2837, 'aromatic': 56.1265}, 'description': 'Bitter Peach by Tom Ford is a Oriental Vanilla fragrance for women and men. This is a new fragrance. Bitter Peach was launched in 2020. Top notes are Peach, Blood Orange, Cardamom and Heliotrope; middle notes are Rum, Cognac, Davana and Jasmine; base notes are Indonesian Patchouli Leaf, Sandalwood, Vanilla, Tonka Bean, Cashmeran, Benzoin, Labdanum, Styrax and Vetiver. Tom Ford Bitter Peach is a part of the collection Private Blend, officially released in early October 2020.\\xa0 Pêche de Vigne is mixed with Sicilian bloodd orange, davana oil with infused rum and cognac, Indonesian patchouli, sandalwood, labdanum and vanilla. The composition is described as sweet and sensual, but also rich and characterful, with pronounced woody and resinous undertones. Tom Ford Bitter Peach is available as a 50, 100 and 250 ml Eau de Parfum.\\n\\xa0 Read about this perfume in other languages: Deutsch, Español, Français, Italiano, Русский, Polski, Português, Ελληνικά, 汉语, Nederlands, Srpski, Română, العربية, Українська, Монгол, עברית.', 'top notes': ['Peach', 'Blood Orange', 'Cardamom', 'Heliotrope'], 'middle notes': ['Rum', 'Cognac', 'Davana', 'Jasmine'], 'base notes': ['Indonesian Patchouli Leaf', 'Sandalwood', 'Vanilla', 'Tonka Bean', 'Cashmeran', 'Benzoin', 'Labdanum', 'Styrax', 'Vetiver'], 'longevity': {'very weak': 18, 'weak': 33, 'moderate': 70, 'long lasting': 94, 'eternal': 46}, 'sillage': {'intimate': 49, 'moderate': 136, 'strong': 94, 'enormous': 85}, 'gender_vote': {'female': 68, 'more female': 51, 'unisex': 58, 'more male': 4, 'male': 3}, 'price value': {'way overpriced': 115, 'overpriced': 52, 'ok': 20, 'good value': 9, 'great value': 5}}, {'name': 'Narciso Eau de Parfum Ambrée', 'company': 'Narciso Rodriguez', 'image': 'https://fimgs.net/mdimg/perfume/375x500.60867.jpg', 'for_gender': 'for women', 'rating': 3.84, 'number_votes': 750, 'main accords': {'musky': 100.0, 'powdery': 87.407, 'woody': 86.9365, 'floral': 86.5426, 'amber': 74.5952, 'yellow floral': 72.4508, 'tropical': 71.8381, 'white floral': 63.2604, 'sweet': 60.4814, 'vanilla': 52.5383}, 'description': 'Narciso Eau de Parfum Ambrée by Narciso Rodriguez is a Oriental Floral fragrance for women. This is a new fragrance. Narciso Eau de Parfum Ambrée was launched in 2020. The nose behind this fragrance is Aurelien Guichard. Top notes are Frangipani, Ylang-Ylang and White Flowers; middle notes are Musk and Amber; base notes are Cashmeran, Vanilla and Cedar.  Read about this perfume in other languages: Deutsch, Español, Français, Italiano, Русский, Polski, Português, Ελληνικά, 汉语, Nederlands, Srpski, Română, العربية, Українська, Монгол, עברית.', 'top notes': ['Frangipani', 'Ylang-Ylang', 'White Flowers'], 'middle notes': ['Musk', 'Amber'], 'base notes': ['Cashmeran', 'Vanilla', 'Cedar'], 'longevity': {'very weak': 28, 'weak': 57, 'moderate': 122, 'long lasting': 62, 'eternal': 44}, 'sillage': {'intimate': 86, 'moderate': 171, 'strong': 110, 'enormous': 140}, 'gender_vote': {'female': 110, 'more female': 15, 'unisex': 3, 'more male': 0, 'male': 0}, 'price value': {'way overpriced': 6, 'overpriced': 21, 'ok': 67, 'good value': 15, 'great value': 2}}, {'name': 'La Nuit Tresor Nude', 'company': 'Lancome', 'image': 'https://fimgs.net/mdimg/perfume/375x500.58825.jpg', 'for_gender': 'for women', 'rating': 4.05, 'number_votes': 583, 'main accords': {'vanilla': 100.0, 'coconut': 85.9852, 'sweet': 63.035, 'citrus': 52.0233, 'rose': 51.5042, 'lactonic': 49.5948, 'powdery': 48.0561, 'tropical': 46.7956}, 'description': 'La Nuit Tresor Nude by Lancome is a Floral fragrance for women. This is a new fragrance. La Nuit Tresor Nude was launched in 2020. Top note is Bergamot; middle note is Rose; base notes are Coconut and Vanila.  Read about this perfume in other languages: Deutsch, Español, Français, Italiano, Русский, Polski, Português, Ελληνικά, 汉语, Nederlands, Srpski, Română, العربية, Українська, Монгол, עברית.', 'top notes': ['Bergamot'], 'middle notes': ['Rose'], 'base notes': ['Coconut', 'Vanila'], 'longevity': {'very weak': 31, 'weak': 22, 'moderate': 112, 'long lasting': 81, 'eternal': 34}, 'sillage': {'intimate': 75, 'moderate': 150, 'strong': 112, 'enormous': 117}, 'gender_vote': {'female': 109, 'more female': 7, 'unisex': 1, 'more male': 0, 'male': 0}, 'price value': {'way overpriced': 7, 'overpriced': 23, 'ok': 68, 'good value': 12, 'great value': 4}}, {'name': 'The Only One Eau de Parfum Intense', 'company': 'Dolce&Gabbana', 'image': 'https://fimgs.net/mdimg/perfume/375x500.59312.jpg', 'for_gender': 'for women', 'rating': 4.12, 'number_votes': 562, 'main accords': {'white floral': 100.0, 'vanilla': 75.2123, 'woody': 65.9461, 'citrus': 64.2808, 'coconut': 59.2466, 'sweet': 57.7603, 'fresh': 45.8858}, 'description': 'The Only One Eau de Parfum Intense by Dolce&Gabbana is a Oriental Floral fragrance for women. This is a new fragrance. The Only One Eau de Parfum Intense was launched in 2020. The nose behind this fragrance is Violaine Collas. Top notes are Neroli, Green Apple and Italian Mandarin; middle notes are Jasmine, Coconut and Orange Blossom; base notes are Vanilla, Cashmere Wood and Cedar. \"Femininity finds new intensity in The Only One Eau de Parfum Intense, the latest edition in the The Only One line from Dolce&Gabbana Beauty. While The Only One Eau de Parfum celebrated a head-turning glamour that draws admiration from all, and The Only One 2 Eau de Parfum captured the power of desire, The Only One Eau de Parfum Intense now celebrates the most enchanting and fascinating qualities of The Only One woman. The absolute essence of mesmerizing allure and irresistible sensuality, this hypnotic fragrance is bewitching, beguiling and utterly addictive. The Only One Eau de Parfum Intense builds on the floriental legacy of The Only One line with a captivating new scent. Like the woman it represents, the fragrance is an intricate combination of intense and solar sensuality. Alluringly feminine and irresistibly seductive, its signature lies in the surprising combination of dazzling gold\\norange blossom contrasted with hypnotizing black vanilla. Top notes of sparkling Italian mandarin, crisp green apple accord and golden neroli essence illuminate the radiant floral heart of the fragrance. Notes of dazzling gold orange blossom mingle with the heady sensuality of jasmine absolute, and are softly enveloped by creamy, lush coconut essence, which lends a warm and sunny aura to the scent. Smooth, sweet notes of dark vanilla in the base amplify its addictive quality, underpinned by grounding cedar and cashmere woods. Maintaining the graphic architectural form of The Only One, the bottle is now reinvented in black, the iconic colour of Dolce&Gabbana, which reflects the hypnotic intensity of the fragrance within. The gold ring detail evokes the radiant elegance of The Only One woman, while the sinuous cursive script conjures her seductive silhouette. For the video campaign, Italian director Matteo Garrone renewed his collaboration with actress Emilia Clarke. Set in a traditional trattoria in Rome, the film opens with Emilia surrounded by her friends. Encouraged by them, Emilia starts to sing the classic Italian song “Quando, Quando, Quando”, alongside a group of local musicians. Cheered on by the crowd, her natural aura and intense femininity draws the fascination of all around her. For the print campaign, the Morelli Brothers captured the vibrant energy of the scene, showcasing the spontaneous spirit so characteristic of their work.\" The Only One Eau de Parfum Intense is available as a 30ml Eau de Parfum Intense, 50ml Eau de Parfum Intense and 100ml Eau de Parfum Intense from January 2020. Read about this perfume in other languages: Deutsch, Español, Français, Italiano, Русский, Polski, Português, Ελληνικά, 汉语, Nederlands, Srpski, Română, العربية, Українська, Монгол, עברית.', 'top notes': ['Neroli', 'Green Apple', 'Italian Mandarin'], 'middle notes': ['Jasmine', 'Coconut', 'Orange Blossom'], 'base notes': ['Vanilla', 'Cashmere Wood', 'Cedar'], 'longevity': {'very weak': 20, 'weak': 24, 'moderate': 89, 'long lasting': 96, 'eternal': 39}, 'sillage': {'intimate': 47, 'moderate': 156, 'strong': 99, 'enormous': 81}, 'gender_vote': {'female': 106, 'more female': 27, 'unisex': 11, 'more male': 5, 'male': 2}, 'price value': {'way overpriced': 5, 'overpriced': 17, 'ok': 74, 'good value': 19, 'great value': 6}}, {'name': 'Black Orchid Parfum', 'company': 'Tom Ford', 'image': 'https://fimgs.net/mdimg/perfume/375x500.62199.jpg', 'for_gender': 'for women and men', 'rating': 4.26, 'number_votes': 452, 'main accords': {'earthy': 100.0, 'sweet': 98.1833, 'woody': 90.1842, 'yellow floral': 80.6907, 'fruity': 72.7794, 'patchouli': 72.4864, 'rum': 68.4429, 'floral': 64.1942, 'warm spicy': 60.8539, 'animalic': 47.6685}, 'description': 'Black Orchid Parfum by Tom Ford is a Oriental Floral fragrance for women and men. This is a new fragrance. Black Orchid Parfum was launched in 2020. Top notes are Truffle and Plum; middle notes are Ylang-Ylang, Rum and Black Orchid; base note is Patchouli. Black Orchid is the lavish and luxurious debut of designer Tom Ford from 2006; the extremely sensual scent of imaginary black orchid, flowers, spices, chocolate, balsamic notes and black truffle. Very potent and long-lasting, this fragrance gets its \"most powerful version so far\" in the summer of 2020 in the form of the Black Orchid Parfum edition. Tom Ford Black Orchid Parfum emphasizes the iconic sensuality of the original and its aphrodisiac effect of the black orchid with a new, potent seductive accords - \\xa0ylang-ylang flower dipped in golden rum. It offers an enhanced presence of precious essential oils and reveals the new olfactory dimension of black orchid and ylang-ylang with accords of black plum, black truffle and patchouli. Tom Ford Black Orchid Perfume is presented in an all-over gold bottle of 50 and 100 ml. Read about this perfume in other languages: Deutsch, Español, Français, Italiano, Русский, Polski, Português, Ελληνικά, 汉语, Nederlands, Srpski, Română, العربية, Українська, Монгол, עברית.', 'top notes': ['Truffle', 'Plum'], 'middle notes': ['Ylang-Ylang', 'Rum', 'Black Orchid'], 'base notes': ['Patchouli'], 'longevity': {'very weak': 17, 'weak': 10, 'moderate': 25, 'long lasting': 106, 'eternal': 115}, 'sillage': {'intimate': 32, 'moderate': 75, 'strong': 128, 'enormous': 138}, 'gender_vote': {'female': 17, 'more female': 40, 'unisex': 110, 'more male': 8, 'male': 6}, 'price value': {'way overpriced': 17, 'overpriced': 42, 'ok': 52, 'good value': 14, 'great value': 12}}, {'name': 'La Vie Est Belle Intensément', 'company': 'Lancome', 'image': 'https://fimgs.net/mdimg/perfume/375x500.59326.jpg', 'for_gender': 'for women', 'rating': 4.04, 'number_votes': 693, 'main accords': {'vanilla': 100.0, 'powdery': 87.6849, 'sweet': 77.2545, 'fruity': 74.5487, 'woody': 59.1565, 'white floral': 57.4146, 'warm spicy': 55.4584, 'amber': 54.9872, 'iris': 54.9872, 'balsamic': 48.5334}, 'description': 'La Vie Est Belle Intensément by Lancome is a Oriental Floral fragrance for women. This is a new fragrance. La Vie Est Belle Intensément was launched in 2020. Top notes are Raspberry, Pink Pepper and Bergamot; middle notes are Heliotrope, Jasmine Sambac and Orange Blossom; base notes are Vanilla, iris, Benzoin, Sandalwood and Patchouli.  Read about this perfume in other languages: Deutsch, Español, Français, Italiano, Русский, Polski, Português, Ελληνικά, 汉语, Nederlands, Srpski, Română, العربية, Українська, Монгол, עברית.', 'top notes': ['Raspberry', 'Pink Pepper', 'Bergamot'], 'middle notes': ['Heliotrope', 'Jasmine Sambac', 'Orange Blossom'], 'base notes': ['Vanilla', 'iris', 'Benzoin', 'Sandalwood', 'Patchouli'], 'longevity': {'very weak': 22, 'weak': 26, 'moderate': 84, 'long lasting': 124, 'eternal': 68}, 'sillage': {'intimate': 58, 'moderate': 156, 'strong': 159, 'enormous': 148}, 'gender_vote': {'female': 123, 'more female': 8, 'unisex': 2, 'more male': 0, 'male': 1}, 'price value': {'way overpriced': 4, 'overpriced': 28, 'ok': 70, 'good value': 14, 'great value': 9}}, {'name': \"Miss Dior Rose N'Roses\", 'company': 'Christian Dior', 'image': 'https://fimgs.net/mdimg/perfume/375x500.58562.jpg', 'for_gender': 'for women', 'rating': 3.59, 'number_votes': 905, 'main accords': {'rose': 100.0, 'musky': 73.75, 'fresh spicy': 70.5, 'citrus': 64.1875, 'aromatic': 60.8, 'powdery': 53.475, 'floral': 48.525}, 'description': \"Miss Dior Rose N'Roses by Christian Dior is a Floral fragrance for women. This is a new fragrance. Miss Dior Rose N'Roses was launched in 2020. The nose behind this fragrance is Francois Demachy. Top notes are Geranium, Bergamot and Italian Mandarin; middle notes are Grasse Rose and Damask Rose; base note is White Musk. Miss Dior Rose N'Roses is a new addition to the Miss Dior line, announced as a fresh and radiant Eau de Toilette.\\xa0 Top notes: Italian mandarin, bergamot, geranium essence\\nHeart: Grasse rose, Damask rose\\nBase: white musk Miss Dior Rose N'Roses is available as a 50 and 100 ml Eau de Toilette. Read about this perfume in other languages: Deutsch, Español, Français, Italiano, Русский, Polski, Português, Ελληνικά, 汉语, Nederlands, Srpski, Română, العربية, Українська, Монгол, עברית.\", 'top notes': ['Geranium', 'Bergamot', 'Italian Mandarin'], 'middle notes': ['Grasse Rose', 'Damask Rose'], 'base notes': ['White Musk'], 'longevity': {'very weak': 41, 'weak': 48, 'moderate': 120, 'long lasting': 49, 'eternal': 35}, 'sillage': {'intimate': 91, 'moderate': 173, 'strong': 81, 'enormous': 105}, 'gender_vote': {'female': 103, 'more female': 5, 'unisex': 6, 'more male': 0, 'male': 0}, 'price value': {'way overpriced': 12, 'overpriced': 33, 'ok': 38, 'good value': 5, 'great value': 4}}, {'name': '1 Million Parfum', 'company': 'Paco Rabanne', 'image': 'https://fimgs.net/mdimg/perfume/375x500.60035.jpg', 'for_gender': 'for men', 'rating': 3.9, 'number_votes': 561, 'main accords': {'white floral': 100.0, 'amber': 93.1877, 'tuberose': 86.0741, 'animalic': 80.7216, 'woody': 71.7312, 'salty': 61.9762, 'tropical': 58.7322, 'leather': 56.6468, 'musky': 51.9431, 'coconut': 51.5492}, 'description': '1 Million Parfum by Paco Rabanne is a Leather fragrance for men. This is a new fragrance. 1 Million Parfum was launched in 2020. 1 Million Parfum was created by Quentin Bisch and Christophe Raynaud. Sun-drenched leather with salty effects. A warm deliberate scent on the edge of the extreme. Salty pulse: \"tuberous salty\" textured by amber woods. Leather opulence: accord \"solar leather\" patinated with notes of resin and pine. Quentin Bisch: \"The original idea of this one comes from an accident: back from vacation I had two bottles broken in my leather bag... one was my sunscreen and the other a sample of cistus. The smell was absolutely divine! I captured it with one simple formula: a contrasted smell of salty monoï-tuberose blended with resinous leather...\" Read about this perfume in other languages: Deutsch, Español, Français, Italiano, Русский, Polski, Português, Ελληνικά, 汉语, Nederlands, Srpski, Română, العربية, Українська, Монгол, עברית.', 'top notes': [], 'middle notes': ['Tuberose', 'Monoi Oil', 'Salt', 'Ambergris', 'Solar notes', 'Leather', 'Cashmeran', 'Pine', 'Labdanum'], 'base notes': [], 'longevity': {'very weak': 20, 'weak': 23, 'moderate': 61, 'long lasting': 183, 'eternal': 124}, 'sillage': {'intimate': 45, 'moderate': 125, 'strong': 206, 'enormous': 128}, 'gender_vote': {'female': 2, 'more female': 7, 'unisex': 70, 'more male': 58, 'male': 55}, 'price value': {'way overpriced': 8, 'overpriced': 29, 'ok': 82, 'good value': 32, 'great value': 4}}, {'name': 'Voce Viva', 'company': 'Valentino', 'image': 'https://fimgs.net/mdimg/perfume/375x500.62754.jpg', 'for_gender': 'for women', 'rating': 3.38, 'number_votes': 666, 'main accords': {'citrus': 100.0, 'white floral': 86.0863, 'vanilla': 83.8367, 'sweet': 61.7103, 'powdery': 55.47, 'warm spicy': 53.436, 'musky': 45.1002, 'aromatic': 44.3605}, 'description': 'Voce Viva by Valentino is a Floral Woody Musk fragrance for women. This is a new fragrance. Voce Viva was launched in 2020. Voce Viva was created by Honorine Blanc and Amandine Clerc-Marie. Top notes are Mandarin Orange, Bergamot and Ginger; middle notes are Orange Blossom and Gardenia; base notes are Vanilla, Tonka Bean, Musk, Sandalwood and Oakmoss. \"This scent is an ode to Valentino‘s femininity—a harmony of couture orange blossom absolute and golden gardenia paired with colorful Italian bergamot and mandarin. This perfume is made addictive through an unexpected, cool note of crystal moss accord and vanilla perfume.\\nAbout the Bottle:\\xa0A sleek glass bottle, square and notched on the sides, reveals the light passing through the encapsulated women‘s fragrance, allowing a V of light to emerge. The iconic Valentino rock stud details the chrome cap and collar alongside a vibrant red that contrasts the floral women‘s perfume within.\\nAbout the Fragrance:\\xa0This feminine perfume is intimate and personal, drawing a parallel between the sound of your voice and the scent of your fragrance. Created by the iconic Cool, Color, Couture fashion house, this fragrance celebrates every women‘s voice. The face of the advertising campaign is the singer Lady Gaga, photographed by Inez Van Lamsweerde and Vinoodh Matadin.\" - a note from the brand. Read about this perfume in other languages: Deutsch, Español, Français, Italiano, Русский, Polski, Português, Ελληνικά, 汉语, Nederlands, Srpski, Română, العربية, Українська, Монгол, עברית.', 'top notes': ['Mandarin Orange', 'Bergamot', 'Ginger'], 'middle notes': ['Orange Blossom', 'Gardenia'], 'base notes': ['Vanilla', 'Tonka Bean', 'Musk', 'Sandalwood', 'Oakmoss'], 'longevity': {'very weak': 29, 'weak': 37, 'moderate': 129, 'long lasting': 54, 'eternal': 25}, 'sillage': {'intimate': 83, 'moderate': 148, 'strong': 91, 'enormous': 80}, 'gender_vote': {'female': 180, 'more female': 15, 'unisex': 8, 'more male': 1, 'male': 1}, 'price value': {'way overpriced': 39, 'overpriced': 70, 'ok': 59, 'good value': 16, 'great value': 5}}, {'name': 'Le Lion de Chanel', 'company': 'Chanel', 'image': 'https://fimgs.net/mdimg/perfume/375x500.61036.jpg', 'for_gender': 'for women and men', 'rating': 4.19, 'number_votes': 297, 'main accords': {'amber': 100.0, 'woody': 72.5709, 'musky': 63.5603, 'powdery': 61.016, 'citrus': 56.0638, 'vanilla': 51.5957, 'balsamic': 50.2181, 'patchouli': 48.8653, 'warm spicy': 46.8794}, 'description': 'Le Lion de Chanel by Chanel is a Oriental fragrance for women and men. This is a new fragrance. Le Lion de Chanel was launched in 2020. The nose behind this fragrance is Olivier Polge. Top notes are Lemon and Bergamot; middle notes are Labdanum and Amber; base notes are Madagascar Vanilla, Patchouli, Sandalwood and Musk. Le Lion de Chanel is a new Chanel fragrance from Les Exclusifs de Chanel. Le Lion de Chanel is described as a fragrance characterized by strength and charm, luxury and elegance, built around amber and leathery notes softened with vanilla and bergamot. Top notes: bergamot, lemon\\nHeart: labdanum, amber\\nBase: vanilla, patchouli, sandalwood, musk Perfumer Olivier Polge did not dedicate this creation to the animal, but to the vision that CHANEL took over from it. \"I was much more interested in the emblematic CHANEL lion than the animal,\" \\xa0says Perfumer-Creator for the House of CHANEL. Le Lion de Chanel is available as a 75 and 200 ml Eau de Parfum.\\n\\xa0 Read about this perfume in other languages: Deutsch, Español, Français, Italiano, Русский, Polski, Português, Ελληνικά, 汉语, Nederlands, Srpski, Română, العربية, Українська, Монгол, עברית.', 'top notes': ['Lemon', 'Bergamot'], 'middle notes': ['Labdanum', 'Amber'], 'base notes': ['Madagascar Vanilla', 'Patchouli', 'Sandalwood', 'Musk'], 'longevity': {'very weak': 12, 'weak': 8, 'moderate': 27, 'long lasting': 104, 'eternal': 48}, 'sillage': {'intimate': 22, 'moderate': 92, 'strong': 109, 'enormous': 57}, 'gender_vote': {'female': 10, 'more female': 10, 'unisex': 102, 'more male': 32, 'male': 18}, 'price value': {'way overpriced': 15, 'overpriced': 41, 'ok': 69, 'good value': 10, 'great value': 4}}, {'name': 'Irresistible Givenchy', 'company': 'Givenchy', 'image': 'https://fimgs.net/mdimg/perfume/375x500.60891.jpg', 'for_gender': 'for women', 'rating': 3.59, 'number_votes': 651, 'main accords': {'musky': 100.0, 'fruity': 79.7845, 'rose': 75.9549, 'powdery': 71.2666, 'floral': 68.5975, 'sweet': 67.2745, 'iris': 59.4761, 'aquatic': 56.5517, 'woody': 51.6777, 'fresh': 49.9138}, 'description': 'Irresistible Givenchy by Givenchy is a Floral Fruity fragrance for women. This is a new fragrance. Irresistible Givenchy was launched in 2020. Irresistible Givenchy was created by Fanny Bal, Dominique Ropion and Anne Flipo. Top notes are Pear and Ambrette (Musk Mallow); middle notes are Rose and iris; base notes are Musk and Virginia Cedar. Irresistible Givenchy is announced as a floral-woody and fruity fragrance that plays with the contrast between two opposites: a luscious rose accord and a radiant blond wood note.\\xa0 Top: Pear, Ambrette\\nHeart: Rose Essential™, Iris\\nBase: Virginia Cedar, Musk The face of the advertising campaign is British model Fran Summers. Irrésistible Givenchy is available as 35, 50, and 80 ml Eaux de Parfum.\\xa0 Read about this perfume in other languages: Deutsch, Español, Français, Italiano, Русский, Polski, Português, Ελληνικά, 汉语, Nederlands, Srpski, Română, العربية, Українська, Монгол, עברית.', 'top notes': ['Pear', 'Ambrette (Musk Mallow)'], 'middle notes': ['Rose', 'iris'], 'base notes': ['Musk', 'Virginia Cedar'], 'longevity': {'very weak': 30, 'weak': 38, 'moderate': 90, 'long lasting': 70, 'eternal': 35}, 'sillage': {'intimate': 56, 'moderate': 156, 'strong': 113, 'enormous': 119}, 'gender_vote': {'female': 130, 'more female': 4, 'unisex': 3, 'more male': 0, 'male': 0}, 'price value': {'way overpriced': 8, 'overpriced': 43, 'ok': 52, 'good value': 11, 'great value': 3}}, {'name': 'Rose Prick', 'company': 'Tom Ford', 'image': 'https://fimgs.net/mdimg/perfume/375x500.58781.jpg', 'for_gender': 'for women and men', 'rating': 3.56, 'number_votes': 518, 'main accords': {'warm spicy': 100.0, 'rose': 91.6477, 'patchouli': 72.2585, 'fresh spicy': 68.4801, 'earthy': 59.6555, 'woody': 55.3551, 'citrus': 54.4602, 'vanilla': 52.2727, 'floral': 48.4943, 'herbal': 47.1023}, 'description': 'Rose Prick by Tom Ford is a Chypre Floral fragrance for women and men. This is a new fragrance. Rose Prick was launched in 2020. Top notes are Sichuan Pepper and Turmeric; middle notes are May Rose, Bulgarian Rose and Turkish Rose; base notes are Patchouli and Tonka Bean. Rose Prick comes in a dusky pink matte bottle of the standard shape of a chess piece of the line and handles the rose note in a \"juicy, flowery and full-bodied\" way. Top notes: Sichuan pepper, turmeric\\nHeart: May rose, Turkish rose, Bulgarian rose\\nBase: patchouli, tonka bean Tom Ford Private Blend Rose Prick is available as a 50 ml Eau de Parfum. Read about this perfume in other languages: Deutsch, Español, Français, Italiano, Русский, Polski, Português, Ελληνικά, 汉语, Nederlands, Srpski, Română, العربية, Українська, Монгол, עברית.', 'top notes': ['Sichuan Pepper', 'Turmeric'], 'middle notes': ['May Rose', 'Bulgarian Rose', 'Turkish Rose'], 'base notes': ['Patchouli', 'Tonka Bean'], 'longevity': {'very weak': 22, 'weak': 31, 'moderate': 69, 'long lasting': 65, 'eternal': 44}, 'sillage': {'intimate': 69, 'moderate': 129, 'strong': 118, 'enormous': 124}, 'gender_vote': {'female': 34, 'more female': 19, 'unisex': 35, 'more male': 3, 'male': 2}, 'price value': {'way overpriced': 49, 'overpriced': 22, 'ok': 9, 'good value': 0, 'great value': 2}}, {'name': 'So Scandal!', 'company': 'Jean Paul Gaultier', 'image': 'https://fimgs.net/mdimg/perfume/375x500.60942.jpg', 'for_gender': 'for women', 'rating': 3.88, 'number_votes': 415, 'main accords': {'white floral': 100.0, 'fruity': 69.8104, 'sweet': 66.2214, 'tuberose': 66.0405, 'lactonic': 50.629, 'animalic': 45.9016}, 'description': 'So Scandal! by Jean Paul Gaultier is a Floral Fruity fragrance for women. This is a new fragrance. So Scandal! was launched in 2020. So Scandal! was created by Fabrice Pellegrin and Daphne Bugey. \"She walked past me without even a second glance. A storm in just a tuxedo jacket, and her bare legs.Like an endless compass that one would follow to the end of the world. So sexy.As she strolled by, I saw them all stop mid-sentence. A shock in slow motion. So scandal-ized!\\nFaintly amused by the silent turbulence she sowed in her wake, she heads straight to her table, the one with her gang. Unapologetically determinedthat the show goes on, her attitude had no latitude for discretion or reserve. This woman lives on in my memory, to the point of obsession: her perfume, SoScandal! by Jean Paul Gaultier. The very essence of a scandal.\\nOrange blossom, so bright, Sambac jasmine so opulent and tuberose so powdery: a threesome of white flowers that one could have sworn would deliver an angelic sweetness.\\nAnd boom! It’s a bomb of all that is sensual!\\nJuicy raspberry, a gourmetmilkiness with sexy undertones presses all the carnal buttons. A simple aphrodisiac, a deadly weapon that’s deeply erotic. Daphne Bugey and Fabrice Pellegrin. It’s not their first tango.\\nShe says \"freedom is to be unafraid\".\\nHe has his own motto engraved on the back of his watch, \"carpe diem\", as if to better savour the scandal he created with his partner in crime. Languidly pleasing pleats, round hips and a tiny waist,legs akimbo the up side is down. A handmade scandal. A pink sap courses through this objet, like the life juice of a dangerously irresistible fruit. The design, the drapery, this bottle sets the scene for a story that is meant to be written all through the night and maybe even into day break. Trouble and troubling sensations guaranteed. The color of a grand cru, intensely raspberry, almost bordeaux.\\nVelvety shades. For a colour that colours the night with couture, sound in two parts: SoScandal! by Jean Paul Gaultier. It’s perfectly clear, and it sounds like a champagne cork explosion.\" So Scandal! is available as a 30, 50 and 80ml Eau de Parfum. Read about this perfume in other languages: Deutsch, Español, Français, Italiano, Русский, Polski, Português, Ελληνικά, 汉语, Nederlands, Srpski, Română, العربية, Українська, Монгол, עברית.', 'top notes': [], 'middle notes': ['Raspberry', 'Tuberose', 'Milk', 'Jasmine Sambac', 'Orange Blossom'], 'base notes': [], 'longevity': {'very weak': 15, 'weak': 23, 'moderate': 59, 'long lasting': 88, 'eternal': 32}, 'sillage': {'intimate': 33, 'moderate': 84, 'strong': 105, 'enormous': 97}, 'gender_vote': {'female': 79, 'more female': 4, 'unisex': 2, 'more male': 0, 'male': 3}, 'price value': {'way overpriced': 3, 'overpriced': 22, 'ok': 38, 'good value': 14, 'great value': 4}}, {'name': \"Idôle L'Intense\", 'company': 'Lancome', 'image': 'https://fimgs.net/mdimg/perfume/375x500.62333.jpg', 'for_gender': 'for women', 'rating': 3.79, 'number_votes': 408, 'main accords': {'woody': 100.0, 'rose': 87.0767, 'musky': 85.7795, 'floral': 85.066, 'white floral': 75.4019, 'citrus': 72.7427, 'powdery': 71.186, 'patchouli': 54.971, 'vanilla': 52.0523, 'balsamic': 51.7605}, 'description': \"Idôle L'Intense by Lancome is a Chypre Floral fragrance for women. This is a new fragrance. Idôle L'Intense was launched in 2020. Idôle L'Intense was created by Shyamala Maisondieu, Adriana Medina-Baez and Nadege le Garlantezec. Top notes are Bitter Orange and Mandarin Orange; middle notes are Turkish Rose, Grasse Rose, Egyptian Jasmine, Jasmine Sambac, Jasmine and Musk; base notes are Acácia, Cashmere Wood, Patchouli, Madagascar Vanilla, Cedar and Sandalwood.  Read about this perfume in other languages: Deutsch, Español, Français, Italiano, Русский, Polski, Português, Ελληνικά, 汉语, Nederlands, Srpski, Română, العربية, Українська, Монгол, עברית.\", 'top notes': ['Bitter Orange', 'Mandarin Orange'], 'middle notes': ['Turkish Rose', 'Grasse Rose', 'Egyptian Jasmine', 'Jasmine Sambac', 'Jasmine', 'Musk'], 'base notes': ['Acácia', 'Cashmere Wood', 'Patchouli', 'Madagascar Vanilla', 'Cedar', 'Sandalwood'], 'longevity': {'very weak': 10, 'weak': 13, 'moderate': 65, 'long lasting': 91, 'eternal': 33}, 'sillage': {'intimate': 26, 'moderate': 81, 'strong': 120, 'enormous': 80}, 'gender_vote': {'female': 129, 'more female': 10, 'unisex': 5, 'more male': 2, 'male': 0}, 'price value': {'way overpriced': 11, 'overpriced': 29, 'ok': 68, 'good value': 9, 'great value': 2}}, {'name': 'Pasha de Cartier Parfum', 'company': 'Cartier', 'image': 'https://fimgs.net/mdimg/perfume/375x500.59418.jpg', 'for_gender': 'for men', 'rating': 4.44, 'number_votes': 339, 'main accords': {'woody': 100.0, 'amber': 89.0155, 'warm spicy': 60.688, 'balsamic': 52.5211, 'aromatic': 52.2736, 'vanilla': 49.5227, 'alcohol': 47.7237, 'fresh spicy': 46.2578, 'patchouli': 45.0394}, 'description': 'Pasha de Cartier Parfum by Cartier is a Oriental Fougere fragrance for men. This is a new fragrance. Pasha de Cartier Parfum was launched in 2020. The nose behind this fragrance is Mathilde Laurent. Pasha de Cartier, a classic fougere fragrance of lavender and patchouli, was introduced in 1992, named after the Pasha watch, the legendary Cartier jewelry piece from 1985.The new, contemporary and intense version Pasha de Cartier Parfum is available from February 2020. Pasha de Cartier Parfum is designed for contemporary and elegant men; to those who want to be noticed. The fragrance is a modern version of the original in a parfum concentration that provides additional depth, intensity and lasting permanence. The contemporary fougere composition with woody and ambery features includes notes of patchouli, sandalwood, fir balsam, labdanum, benzoin, ambrocenide molecule and tonka bean. The creation is signed by Cartier in-house perfumer Mathilde Laurent.\\xa0 When creating a new version of the perfume, special attention was paid to the design of the bottle. It is inspired by the watch of the same name with a blue sapphire cabochon, a unique Cartier symbol. It also features other hallmarks including the Trinity ring, gadroons, the love ring and the red box. Pasha Parfum is available in quantities of 50 and 100 ml.\\n\\xa0 Read about this perfume in other languages: Deutsch, Español, Français, Italiano, Русский, Polski, Português, Ελληνικά, 汉语, Nederlands, Srpski, Română, العربية, Українська, Монгол, עברית.', 'top notes': [], 'middle notes': ['Sandalwood', 'Liquor', 'Balsam Fir', 'Tonka Bean', 'Benzoin', 'Ambrocenide', 'Indonesian Patchouli Leaf', 'Labdanum'], 'base notes': [], 'longevity': {'very weak': 12, 'weak': 12, 'moderate': 33, 'long lasting': 128, 'eternal': 45}, 'sillage': {'intimate': 28, 'moderate': 125, 'strong': 133, 'enormous': 55}, 'gender_vote': {'female': 2, 'more female': 1, 'unisex': 11, 'more male': 43, 'male': 74}, 'price value': {'way overpriced': 1, 'overpriced': 13, 'ok': 46, 'good value': 44, 'great value': 10}}, {'name': 'Eros Eau De Parfum', 'company': 'Versace', 'image': 'https://fimgs.net/mdimg/perfume/375x500.62762.jpg', 'for_gender': 'for men', 'rating': 4.18, 'number_votes': 266, 'main accords': {'aromatic': 100.0, 'citrus': 93.2746, 'green': 79.2069, 'woody': 78.3314, 'vanilla': 74.1728, 'fresh spicy': 70.631, 'amber': 59.4485, 'fruity': 58.4536, 'powdery': 56.8618, 'leather': 52.6038}, 'description': 'Eros Eau De Parfum by Versace is a Oriental Woody fragrance for men. This is a new fragrance. Eros Eau De Parfum was launched in 2020. Top notes are Mint, Candy Apple, Lemon and Mandarin Orange; middle notes are Ambroxan, Geranium and Clary Sage; base notes are Vanilla, Leather, Sandalwood, Cedar, Bitter Orange and Patchouli.  Read about this perfume in other languages: Deutsch, Español, Français, Italiano, Русский, Polski, Português, Ελληνικά, 汉语, Nederlands, Srpski, Română, العربية, Українська, Монгол, עברית.', 'top notes': ['Mint', 'Candy Apple', 'Lemon', 'Mandarin Orange'], 'middle notes': ['Ambroxan', 'Geranium', 'Clary Sage'], 'base notes': ['Vanilla', 'Leather', 'Sandalwood', 'Cedar', 'Bitter Orange', 'Patchouli'], 'longevity': {'very weak': 21, 'weak': 13, 'moderate': 36, 'long lasting': 111, 'eternal': 33}, 'sillage': {'intimate': 35, 'moderate': 69, 'strong': 106, 'enormous': 47}, 'gender_vote': {'female': 0, 'more female': 1, 'unisex': 8, 'more male': 32, 'male': 85}, 'price value': {'way overpriced': 7, 'overpriced': 18, 'ok': 61, 'good value': 26, 'great value': 8}}, {'name': 'Nomade Absolu de Parfum', 'company': 'Chloé', 'image': 'https://fimgs.net/mdimg/perfume/375x500.58424.jpg', 'for_gender': 'for women', 'rating': 4.01, 'number_votes': 466, 'main accords': {'mossy': 100.0, 'woody': 95.625, 'fruity': 80.5312, 'aromatic': 80.1375, 'earthy': 79.0, 'powdery': 70.9063, 'green': 70.6, 'musky': 67.1875, 'sweet': 62.5938, 'balsamic': 59.225}, 'description': 'Nomade Absolu de Parfum by Chloé is a Chypre Fruity fragrance for women. This is a new fragrance. Nomade Absolu de Parfum was launched in 2020. The nose behind this fragrance is Quentin Bisch. Top note is Mirabelle; middle notes are Oakmoss and Davana; base notes are Sandalwood and Musk. Nomade Absolu is announced as a modern fragrance of independence, elegance and adventure. The more intense version of the original exudes sophistication and a bright, attractive chypre-fruity character. Top notes: Mirabelle plum\\nHeart: oak moss, davana\\nBase: sandalwood, musk Actress Ariane Labed returns as the face of an ad campaign shot by photographer Peter Lindbergh. The fragrance is available as a 30, 50 and 75 ml Eau de Parfum.\\n\\xa0 Read about this perfume in other languages: Deutsch, Español, Français, Italiano, Русский, Polski, Português, Ελληνικά, 汉语, Nederlands, Srpski, Română, العربية, Українська, Монгол, עברית.', 'top notes': ['Mirabelle'], 'middle notes': ['Oakmoss', 'Davana'], 'base notes': ['Sandalwood', 'Musk'], 'longevity': {'very weak': 17, 'weak': 23, 'moderate': 62, 'long lasting': 62, 'eternal': 28}, 'sillage': {'intimate': 42, 'moderate': 109, 'strong': 77, 'enormous': 89}, 'gender_vote': {'female': 33, 'more female': 15, 'unisex': 16, 'more male': 3, 'male': 1}, 'price value': {'way overpriced': 1, 'overpriced': 8, 'ok': 29, 'good value': 14, 'great value': 4}}, {'name': 'Interlude Black Iris Man', 'company': 'Amouage', 'image': 'https://fimgs.net/mdimg/perfume/375x500.60929.jpg', 'for_gender': 'for men', 'rating': 4.22, 'number_votes': 332, 'main accords': {'amber': 100.0, 'woody': 73.5617, 'iris': 64.6343, 'powdery': 63.0854, 'fresh spicy': 59.7941, 'warm spicy': 56.5243, 'leather': 56.2446, 'oud': 52.3724, 'aromatic': 52.0713, 'balsamic': 51.4754}, 'description': 'Interlude Black Iris Man by Amouage is a Oriental Woody fragrance for men. This is a new fragrance. Interlude Black Iris Man was launched in 2020. The nose behind this fragrance is Pierre Negrin. Top notes are Violet Leaf, Rosemary and Bergamot; middle notes are Orris, Olibanum, Myrhh, Vanilla, Labdanum and Amber; base notes are Leather, Agarwood (Oud), Sandalwood, Patchouli and Cedar.  Read about this perfume in other languages: Deutsch, Español, Français, Italiano, Русский, Polski, Português, Ελληνικά, 汉语, Nederlands, Srpski, Română, العربية, Українська, Монгол, עברית.', 'top notes': ['Violet Leaf', 'Rosemary', 'Bergamot'], 'middle notes': ['Orris', 'Olibanum', 'Myrhh', 'Vanilla', 'Labdanum', 'Amber'], 'base notes': ['Leather', 'Agarwood (Oud)', 'Sandalwood', 'Patchouli', 'Cedar'], 'longevity': {'very weak': 13, 'weak': 10, 'moderate': 25, 'long lasting': 72, 'eternal': 104}, 'sillage': {'intimate': 28, 'moderate': 63, 'strong': 106, 'enormous': 128}, 'gender_vote': {'female': 3, 'more female': 0, 'unisex': 14, 'more male': 31, 'male': 58}, 'price value': {'way overpriced': 20, 'overpriced': 24, 'ok': 31, 'good value': 9, 'great value': 8}}, {'name': \"J'Adore Infinissime\", 'company': 'Christian Dior', 'image': 'https://fimgs.net/mdimg/perfume/375x500.62638.jpg', 'for_gender': 'for women', 'rating': 3.85, 'number_votes': 380, 'main accords': {'white floral': 100.0, 'tuberose': 70.9471, 'yellow floral': 55.1532, 'woody': 54.1393, 'sweet': 44.273}, 'description': 'J\\'Adore Infinissime by Christian Dior is a Oriental Floral fragrance for women. This is a new fragrance. J\\'Adore Infinissime was launched in 2020. The nose behind this fragrance is Francois Demachy. Top notes are Blood Orange, Bergamot and Pink Pepper; middle notes are Tuberose, Jasmine Sambac, Ylang-Ylang, Lily-of-the-Valley and Rose; base note is Sandalwood. A new perfume from the J\\'Adore Dior family is\\xa0released in September 2020, called J\\'Adore Eau de Parfum Infinissime, announced as an \"infinitely sensual\" version of the original. Dior in-house perfumer François Demachy added an intoxicating note of tuberose from the Grasse region to the rich floral composition of the original trio of centifolia rose, sambac jasmine and ylang-ylang. According to the perfumer, the tuberose gives this perfume a unique charm and indicates a strong and confident femininity. J\\'Adore Infinissime is available as a 50 and 100 ml Eau de Parfum. Read about this perfume in other languages: Deutsch, Español, Français, Italiano, Русский, Polski, Português, Ελληνικά, 汉语, Nederlands, Srpski, Română, العربية, Українська, Монгол, עברית.', 'top notes': ['Blood Orange', 'Bergamot', 'Pink Pepper'], 'middle notes': ['Tuberose', 'Jasmine Sambac', 'Ylang-Ylang', 'Lily-of-the-Valley', 'Rose'], 'base notes': ['Sandalwood'], 'longevity': {'very weak': 23, 'weak': 22, 'moderate': 62, 'long lasting': 47, 'eternal': 17}, 'sillage': {'intimate': 40, 'moderate': 88, 'strong': 59, 'enormous': 60}, 'gender_vote': {'female': 99, 'more female': 7, 'unisex': 5, 'more male': 1, 'male': 2}, 'price value': {'way overpriced': 16, 'overpriced': 45, 'ok': 24, 'good value': 8, 'great value': 0}}, {'name': 'Angel Eau Croisière 2020', 'company': 'Mugler', 'image': 'https://fimgs.net/mdimg/perfume/375x500.58960.jpg', 'for_gender': 'for women', 'rating': 4.22, 'number_votes': 375, 'main accords': {'sweet': 100.0, 'fruity': 79.8637, 'woody': 65.1934, 'patchouli': 58.361, 'floral': 57.8453, 'vanilla': 55.7827, 'lactonic': 45.7687, 'warm spicy': 44.1805}, 'description': 'Angel Eau Croisière 2020 by Mugler is a Floral Fruity Gourmand fragrance for women. This is a new fragrance. Angel Eau Croisière 2020 was launched in 2020.  Read about this perfume in other languages: Deutsch, Español, Français, Italiano, Русский, Polski, Português, Ελληνικά, 汉语, Nederlands, Srpski, Română, العربية, Українська, Монгол, עברית.', 'top notes': [], 'middle notes': ['Fig Nectar', 'Praline', 'Patchouli', 'Magnolia', 'Vanilla'], 'base notes': [], 'longevity': {'very weak': 19, 'weak': 25, 'moderate': 81, 'long lasting': 33, 'eternal': 31}, 'sillage': {'intimate': 37, 'moderate': 106, 'strong': 85, 'enormous': 86}, 'gender_vote': {'female': 34, 'more female': 16, 'unisex': 10, 'more male': 0, 'male': 1}, 'price value': {'way overpriced': 1, 'overpriced': 6, 'ok': 30, 'good value': 16, 'great value': 2}}, {'name': 'R.E.M.', 'company': 'Ariana Grande', 'image': 'https://fimgs.net/mdimg/perfume/375x500.62578.jpg', 'for_gender': 'for women', 'rating': 3.87, 'number_votes': 348, 'main accords': {'sweet': 100.0, 'powdery': 59.1033, 'fruity': 58.1298, 'caramel': 56.2948, 'lavender': 55.9591, 'salty': 44.7698, 'aromatic': 44.132}, 'description': 'R.E.M. by Ariana Grande is a Oriental Vanilla fragrance for women. This is a new fragrance. R.E.M. was launched in 2020. Top notes are Zefir, Caramel, Fig, Salt and Quince; middle notes are Lavender and Pear Blossom; base notes are Tonka Bean, Musk and Sandalwood.  Read about this perfume in other languages: Deutsch, Español, Français, Italiano, Русский, Polski, Português, Ελληνικά, 汉语, Nederlands, Srpski, Română, العربية, Українська, Монгол, עברית.', 'top notes': ['Zefir', 'Caramel', 'Fig', 'Salt', 'Quince'], 'middle notes': ['Lavender', 'Pear Blossom'], 'base notes': ['Tonka Bean', 'Musk', 'Sandalwood'], 'longevity': {'very weak': 31, 'weak': 43, 'moderate': 101, 'long lasting': 27, 'eternal': 13}, 'sillage': {'intimate': 71, 'moderate': 128, 'strong': 41, 'enormous': 42}, 'gender_vote': {'female': 33, 'more female': 58, 'unisex': 47, 'more male': 7, 'male': 1}, 'price value': {'way overpriced': 7, 'overpriced': 11, 'ok': 39, 'good value': 53, 'great value': 12}}, {'name': 'Alahine', 'company': 'Teo Cabanel', 'image': 'https://fimgs.net/mdimg/perfume/375x500.4233.jpg', 'for_gender': 'for women', 'rating': 4.04, 'number_votes': 526, 'main accords': {'amber': 100.0, 'woody': 90.7326, 'warm spicy': 75.7587, 'powdery': 65.563, 'vanilla': 64.4978, 'yellow floral': 61.8044, 'sweet': 58.5326, 'white floral': 56.9348, 'fresh spicy': 56.5544, 'balsamic': 56.5315}, 'description': 'Alahine by Teo Cabanel is a Oriental Floral fragrance for women. Alahine was launched in 2007. The nose behind this fragrance is Jean-Francois Latty. Top notes are Ylang-Ylang and Bergamot; middle notes are Pepper, Rose, Orange Blossom and Jasmine; base notes are Benzoin, French labdanum, Sandalwood, Vanilla, iris, Patchouli and Musk. Alahine is the third fragrance by the French house of Teo Cabanel, launched in April 2007. Alahine is a oriental fragrance which was inspired by luxurious oriental palaces.\\nAlahine takes off with a citrusy top note of bergamot\\nand ylang-ylang. The flowery scents of jasmine\\nand rose are in perfect harmony with spices such\\nas orange tree and pepper plant. Spellbinding\\nand unforgettable, the honeyed rose of\\nMorocco perfectly illustrates the Orient.\\nThe sensuous accent gives way to the\\nway to the sweetness and warmth of\\niris, cistus, patchouli, benjoin, vanilla,\\nsandalwood and musk.\\nThe fragrance is available in 50 and 100ml of eau de parfum, a parfum extract of 15ml, and a solid of 2 gr with refill. Read about this perfume in other languages: Deutsch, Español, Français, Italiano, Русский, Polski, Português, Ελληνικά, 汉语, Nederlands, Srpski, Română, العربية, Українська, Монгол, עברית.', 'top notes': ['Ylang-Ylang', 'Bergamot'], 'middle notes': ['Pepper', 'Rose', 'Orange Blossom', 'Jasmine'], 'base notes': ['Benzoin', 'French labdanum', 'Sandalwood', 'Vanilla', 'iris', 'Patchouli', 'Musk'], 'longevity': {'very weak': 8, 'weak': 14, 'moderate': 39, 'long lasting': 48, 'eternal': 19}, 'sillage': {'intimate': 27, 'moderate': 74, 'strong': 53, 'enormous': 54}, 'gender_vote': {'female': 2, 'more female': 8, 'unisex': 3, 'more male': 0, 'male': 0}, 'price value': {'way overpriced': 0, 'overpriced': 1, 'ok': 9, 'good value': 1, 'great value': 0}}, {'name': 'L’Homme Ideal Eau de Parfum', 'company': 'Guerlain', 'image': 'https://fimgs.net/mdimg/perfume/375x500.37735.jpg', 'for_gender': 'for men', 'rating': 4.37, 'number_votes': 2956, 'main accords': {'sweet': 100.0, 'cherry': 92.8321, 'vanilla': 90.4173, 'almond': 90.1364, 'nutty': 76.135, 'amber': 68.2566, 'fruity': 67.9222, 'warm spicy': 65.7349, 'leather': 61.9966, 'smoky': 59.3635}, 'description': \"L’Homme Ideal Eau de Parfum by Guerlain is a Oriental Woody fragrance for men. L’Homme Ideal Eau de Parfum was launched in 2016. L’Homme Ideal Eau de Parfum was created by Thierry Wasser and Delphine Jelk. Top notes are Almond, Spices, Lavender, Bergamot, Rosemary and Thyme; middle notes are Cherry, Vanilla, Incense and Bulgarian Rose; base notes are Tonka Bean, Leather and Sandalwood. Guerlain launched L'Homme Ideal fragrance in 2014.The first reinterpretation called L'Homme Ideal Cologne was introduced in spring 2015 as its invigorating and lighter version. The third flanker, announced as more intense, more sensual and mysterious, L'Homme Idéal Eau de Parfum, comes out in April 2016.The new fragrance is developed by the Guerlain in-house perfumer Thierry Wasser along with colleague Delphine Jelk. The composition is a woody-oriental, focusing on the almond note covered with leather and Guerlinade vanilla. The opening notes include bergamot, spices and almond. Turkish rose, incense and vanilla are in the heart, while the base consists of sandalwood, leather and tonka.The bottle retains its original form, colored in a soft amber shade with the logo letters in bright orange. The fragrance is available as a 50 and a 100 ml Eau de Parfum. Read about this perfume in other languages: Deutsch, Español, Français, Italiano, Русский, Polski, Português, Ελληνικά, 汉语, Nederlands, Srpski, Română, العربية, Українська, Монгол, עברית.\", 'top notes': ['Almond', 'Spices', 'Lavender', 'Bergamot', 'Rosemary', 'Thyme'], 'middle notes': ['Cherry', 'Vanilla', 'Incense', 'Bulgarian Rose'], 'base notes': ['Tonka Bean', 'Leather', 'Sandalwood'], 'longevity': {'very weak': 74, 'weak': 108, 'moderate': 406, 'long lasting': 778, 'eternal': 198}, 'sillage': {'intimate': 237, 'moderate': 954, 'strong': 466, 'enormous': 276}, 'gender_vote': {'female': 2, 'more female': 9, 'unisex': 113, 'more male': 167, 'male': 115}, 'price value': {'way overpriced': 4, 'overpriced': 28, 'ok': 190, 'good value': 110, 'great value': 25}}, {'name': 'Arabie', 'company': 'Serge Lutens', 'image': 'https://fimgs.net/mdimg/perfume/375x500.1005.jpg', 'for_gender': 'for women and men', 'rating': 3.98, 'number_votes': 2859, 'main accords': {'fresh spicy': 100.0, 'sweet': 96.0072, 'fruity': 95.2813, 'warm spicy': 86.4919, 'amber': 79.3545, 'woody': 69.091, 'aromatic': 58.7941, 'balsamic': 48.4936, 'powdery': 44.1378}, 'description': 'Arabie by Serge Lutens is a Oriental Woody fragrance for women and men. Arabie was launched in 2000. The nose behind this fragrance is Christopher Sheldrake. Many of the Serge Lutens fragrances were inspired by journeys around Middle East. Arabie was inspired by eastern spice shops; it is an exquisitely warm spicy fragrance, dense and sweet from aromatic resins, temperamental, sunny, yet mysterious like East itself. Precious notes of cedar and sandal blend in with sweet notes of candied mandarin, dried fig and date. Nutmeg, cumin and clove at the heart pervade the composition with hot spicy notes. Aromatic bay-leaf, harsh and pleasant, joins the spices, dwelling in dense resin waves of Tonka, Siamese benzoina and myrrh. The final accord of labdanum joins aromatic opulence into a harmonic wholeness. Read about this perfume in other languages: Deutsch, Español, Français, Italiano, Русский, Polski, Português, Ελληνικά, 汉语, Nederlands, Srpski, Română, العربية, Українська, Монгол, עברית.', 'top notes': [], 'middle notes': ['Dried Fruits', 'Cloves', 'Dates', 'Nutmeg', 'Caraway', 'Bay Leaf', 'Resin', 'Siam Benzoin', 'Myrrh', 'Fig', 'Sandalwood', 'Mandarin Orange', 'Tonka Bean', 'Cedar'], 'base notes': [], 'longevity': {'very weak': 33, 'weak': 48, 'moderate': 132, 'long lasting': 321, 'eternal': 146}, 'sillage': {'intimate': 102, 'moderate': 297, 'strong': 364, 'enormous': 186}, 'gender_vote': {'female': 2, 'more female': 7, 'unisex': 30, 'more male': 4, 'male': 0}, 'price value': {'way overpriced': 1, 'overpriced': 7, 'ok': 24, 'good value': 3, 'great value': 2}}, {'name': 'Poison', 'company': 'Christian Dior', 'image': 'https://fimgs.net/mdimg/perfume/375x500.218.jpg', 'for_gender': 'for women', 'rating': 3.95, 'number_votes': 11866, 'main accords': {'fruity': 100.0, 'sweet': 96.4821, 'amber': 92.2035, 'white floral': 86.7026, 'woody': 85.1251, 'warm spicy': 78.9501, 'balsamic': 69.8069, 'tuberose': 69.5822, 'floral': 65.0911, 'honey': 63.3723}, 'description': 'Poison by Christian Dior is a Oriental Floral fragrance for women. Poison was launched in 1985. The nose behind this fragrance is Edouard Flechier. Top notes are Plum, Wild berries, Coriander, Anise and Brazilian Rosewood; middle notes are Tuberose, Incense, white honey, Cinnamon, Opoponax, Carnation, Jasmine, African Orange flower and Rose; base notes are Vanille, Amber, Sandalwood, Musk, Heliotrope, Vetiver and Virginia Cedar. Forbidden fruit from the house of Dior, Poison is the revolutionary fragrance that became a legend since it has been launched in 1985. An unrivalled alchemy; spicy, fruity, woody fragrance of enigmatic profoundness that mesmerizes the senses…forever. Top notes include coriander, wildberries, orange honey, tuberose are at perfume’s heart, while base note features opopanar.\\nThis dark, mysterious and elegant perfume, which won a FiFi award in 1987, was created by Edouard Flechier.\\nIn 2006, the house of Dior released the Poison Amulets. These are limited edition 15 ml purse sprays available in Poison, Pure Poison, Tendre Poison and Hypnotic Poison; each comes with 2 refills and is packaged in a satin pouch with funnel. The bottles are very elegant while following the style and colors of the originals. Read about this perfume in other languages: Deutsch, Español, Français, Italiano, Русский, Polski, Português, Ελληνικά, 汉语, Nederlands, Srpski, Română, العربية, Українська, Монгол, עברית.', 'top notes': ['Plum', 'Wild berries', 'Coriander', 'Anise', 'Brazilian Rosewood'], 'middle notes': ['Tuberose', 'Incense', 'white honey', 'Cinnamon', 'Opoponax', 'Carnation', 'Jasmine', 'African Orange flower', 'Rose'], 'base notes': ['Vanille', 'Amber', 'Sandalwood', 'Musk', 'Heliotrope', 'Vetiver', 'Virginia Cedar'], 'longevity': {'very weak': 78, 'weak': 90, 'moderate': 307, 'long lasting': 800, 'eternal': 1565}, 'sillage': {'intimate': 198, 'moderate': 519, 'strong': 1076, 'enormous': 1589}, 'gender_vote': {'female': 149, 'more female': 33, 'unisex': 35, 'more male': 2, 'male': 2}, 'price value': {'way overpriced': 9, 'overpriced': 37, 'ok': 113, 'good value': 32, 'great value': 12}}, {'name': 'Levante Intense', 'company': 'Jo Milano Paris', 'image': 'https://fimgs.net/mdimg/perfume/375x500.54421.jpg', 'for_gender': 'for women and men', 'rating': 4.43, 'number_votes': 7, 'main accords': {'citrus': 100.0, 'fresh spicy': 76.2, 'mossy': 72.0, 'white floral': 72.0, 'earthy': 65.0, 'aromatic': 55.2, 'woody': 51.0}, 'description': 'Levante Intense by Jo Milano Paris is a fragrance for women and men. This is a new fragrance. Levante Intense was launched in 2019. Top note is Grapefruit; middle notes are Jasmine and Bay Leaf; base notes are Oakmoss and Patchouli.  Read about this perfume in other languages: Deutsch, Español, Français, Italiano, Русский, Polski, Português, Ελληνικά, 汉语, Nederlands, Srpski, Română, العربية, Українська, Монгол, עברית.', 'top notes': ['Grapefruit'], 'middle notes': ['Jasmine', 'Bay Leaf'], 'base notes': ['Oakmoss', 'Patchouli'], 'longevity': {'very weak': 0, 'weak': 0, 'moderate': 0, 'long lasting': 6, 'eternal': 1}, 'sillage': {'intimate': 2, 'moderate': 6, 'strong': 11, 'enormous': 6}, 'gender_vote': {'female': 0, 'more female': 0, 'unisex': 0, 'more male': 0, 'male': 1}, 'price value': {'way overpriced': 0, 'overpriced': 0, 'ok': 1, 'good value': 0, 'great value': 0}}, {'name': 'Kate Spade New York', 'company': 'Kate Spade', 'image': 'https://fimgs.net/mdimg/perfume/375x500.64401.jpg', 'for_gender': 'for women', 'rating': 3.88, 'number_votes': 40, 'main accords': {'amber': 100.0, 'citrus': 94.717, 'fruity': 92.7359, 'woody': 92.7359, 'musky': 91.7453, 'floral': 76.5566, 'sweet': 73.9151, 'rose': 69.6226, 'powdery': 59.0566, 'fresh spicy': 52.4528}, 'description': 'Kate Spade New York by Kate Spade is a Floral Fruity fragrance for women. This is a new fragrance. Kate Spade New York was launched in 2020. The nose behind this fragrance is Marie Salamagne. Top notes are Wild Strawberry, Bergamot and Citruses; middle notes are Rose and Freesia; base notes are Ambroxan and Cashmeran.  Read about this perfume in other languages: Deutsch, Español, Français, Italiano, Русский, Polski, Português, Ελληνικά, 汉语, Nederlands, Srpski, Română, العربية, Українська, Монгол, עברית.', 'top notes': ['Wild Strawberry', 'Bergamot', 'Citruses'], 'middle notes': ['Rose', 'Freesia'], 'base notes': ['Ambroxan', 'Cashmeran'], 'longevity': {'very weak': 0, 'weak': 7, 'moderate': 9, 'long lasting': 5, 'eternal': 0}, 'sillage': {'intimate': 6, 'moderate': 12, 'strong': 0, 'enormous': 0}, 'gender_vote': {'female': 19, 'more female': 3, 'unisex': 0, 'more male': 0, 'male': 0}, 'price value': {'way overpriced': 1, 'overpriced': 3, 'ok': 9, 'good value': 2, 'great value': 1}}, {'name': 'La Yuqawam Jasmine Wisp', 'company': 'Rasasi', 'image': 'https://fimgs.net/mdimg/perfume/375x500.44897.jpg', 'for_gender': 'for women', 'rating': 4.2, 'number_votes': 177, 'main accords': {'sweet': 100.0, 'fruity': 96.9791, 'vanilla': 84.8611, 'tropical': 67.7777, 'white floral': 67.5, 'amber': 61.5972, 'citrus': 58.4722, 'fresh': 57.1528, 'coconut': 57.0833, 'powdery': 47.4653}, 'description': 'La Yuqawam Jasmine Wisp by Rasasi is a Floral Fruity Gourmand fragrance for women. La Yuqawam Jasmine Wisp was launched in 2016. Top notes are Mandarin Orange, Lemon and Grapefruit; middle notes are Passionfruit, White Flowers, Pear, Coconut and Peach; base notes are Vanilla, Amber and Tonka Bean. Jasmine Wisp, women fragrance of LaYuqawam edition III, true to the DNA of the series celebrates confidence, irresistibility and timeless elegance through a highly distinguishing olfactory signature. The perfume pays homage to the famed Middle Eastern tradition of elegant intoxicating fragrant trail; a la scent signature that announces a weaver much before the arrival while leaving behind a mysteriously lingering aura.\\nA distinctive white floral vanilla scent laced with generous ambry pear juice and hints of citrus along with appetizing notes of Bourbon vanilla, coumarine and maltol giving the scent a gourmand touch. The accentuated note of amber with strawberry imparts it an irresistible young, vivacious and feisty signature while the sweetness of Anjou infused with overwhelming floral scent of the Starkrimson pear gives it a sensuous appeal.\\nThe Jasmine Wisp woman is a young, modern, cosmopolitan dreamer with a love for discovery. The lovely trail of the fragrance heightens her inner confidence while enveloping her in an aura of sensuous mystery. The long lasting fruity floral fragrance brimming with happiness and promise is ideal for woman with a vivacious personality, one who is always at the centre of attention. Read about this perfume in other languages: Deutsch, Español, Français, Italiano, Русский, Polski, Português, Ελληνικά, 汉语, Nederlands, Srpski, Română, العربية, Українська, Монгол, עברית.', 'top notes': ['Mandarin Orange', 'Lemon', 'Grapefruit'], 'middle notes': ['Passionfruit', 'White Flowers', 'Pear', 'Coconut', 'Peach'], 'base notes': ['Vanilla', 'Amber', 'Tonka Bean'], 'longevity': {'very weak': 7, 'weak': 3, 'moderate': 18, 'long lasting': 38, 'eternal': 39}, 'sillage': {'intimate': 11, 'moderate': 40, 'strong': 55, 'enormous': 79}, 'gender_vote': {'female': 35, 'more female': 3, 'unisex': 4, 'more male': 0, 'male': 0}, 'price value': {'way overpriced': 1, 'overpriced': 4, 'ok': 15, 'good value': 11, 'great value': 5}}, {'name': 'Burberry Her Intense', 'company': 'Burberry', 'image': 'https://fimgs.net/mdimg/perfume/375x500.56761.jpg', 'for_gender': 'for women', 'rating': 3.85, 'number_votes': 607, 'main accords': {'fruity': 100.0, 'amber': 69.4451, 'sweet': 54.6782, 'warm spicy': 49.7225, 'fresh': 45.2174}, 'description': 'Burberry Her Intense by Burberry is a Floral Fruity Gourmand fragrance for women. This is a new fragrance. Burberry Her Intense was launched in 2019. The nose behind this fragrance is Francis Kurkdjian. Top notes are Red Fruits and Blackberry; middle note is Jasmine; base note is Benzoin.  Read about this perfume in other languages: Deutsch, Español, Français, Italiano, Русский, Polski, Português, Ελληνικά, 汉语, Nederlands, Srpski, Română, العربية, Українська, Монгол, עברית.', 'top notes': ['Red Fruits', 'Blackberry'], 'middle notes': ['Jasmine'], 'base notes': ['Benzoin'], 'longevity': {'very weak': 28, 'weak': 29, 'moderate': 64, 'long lasting': 120, 'eternal': 40}, 'sillage': {'intimate': 68, 'moderate': 146, 'strong': 137, 'enormous': 125}, 'gender_vote': {'female': 89, 'more female': 17, 'unisex': 9, 'more male': 0, 'male': 0}, 'price value': {'way overpriced': 5, 'overpriced': 10, 'ok': 52, 'good value': 24, 'great value': 4}}, {'name': 'Oriental Orchid', 'company': 'Rirana Parfume', 'image': 'https://fimgs.net/mdimg/perfume/375x500.60724.jpg', 'for_gender': 'for women and men', 'rating': 4.23, 'number_votes': 13, 'main accords': {'white floral': 100.0, 'warm spicy': 97.2, 'floral': 92.0666, 'sweet': 91.6, 'chocolate': 82.2667, 'patchouli': 76.6667, 'woody': 60.8, 'balsamic': 58.0, 'powdery': 56.6, 'amber': 55.2}, 'description': 'Oriental Orchid by Rirana Parfume is a Oriental Floral fragrance for women and men.  Read about this perfume in other languages: Deutsch, Español, Français, Italiano, Русский, Polski, Português, Ελληνικά, 汉语, Nederlands, Srpski, Română, العربية, Українська, Монгол, עברית.', 'top notes': [], 'middle notes': ['Orchid', 'White Flowers', 'Chocolate', 'Patchouli', 'Incense'], 'base notes': [], 'longevity': {'very weak': 0, 'weak': 0, 'moderate': 1, 'long lasting': 3, 'eternal': 7}, 'sillage': {'intimate': 0, 'moderate': 9, 'strong': 3, 'enormous': 3}, 'gender_vote': {'female': 0, 'more female': 0, 'unisex': 3, 'more male': 0, 'male': 0}, 'price value': {'way overpriced': 0, 'overpriced': 0, 'ok': 3, 'good value': 0, 'great value': 0}}, {'name': '1 Million Lucky', 'company': 'Paco Rabanne', 'image': 'https://fimgs.net/mdimg/perfume/375x500.48903.jpg', 'for_gender': 'for men', 'rating': 4.22, 'number_votes': 1584, 'main accords': {'woody': 100.0, 'sweet': 83.926, 'nutty': 77.2509, 'honey': 75.4982, 'fruity': 70.6051, 'ozonic': 52.5665, 'citrus': 51.5076, 'amber': 46.5634, 'floral': 45.6724}, 'description': '1 Million Lucky by Paco Rabanne is a Woody fragrance for men. 1 Million Lucky was launched in 2018. The nose behind this fragrance is Nathalie Gracia-Cetto. Top notes are Plum, Ozonic notes, Grapefruit and Bergamot; middle notes are Hazelnut, Honey, Cedar, Cashmere Wood, Jasmine and Orange Blossom; base notes are Amberwood, Patchouli, Oakmoss and Vetiver. The best-selling perfumes from the house of Paco Rabanne 1 Million (2008) and Lady Million (2010) get the new interpretations that come out in the spring of 2018 - 1 Million Lucky and Lady Million Lucky. \"Seize your dreams and build your own life. Intensely. Grab hold of happiness when it arises. Pure feeling. Tremble, share, and dare. Without limits. Live every moment, without delay.\" One Million Lucky Eau de Toilette is announced as a pulsating and captivating scent of woody and gourmand tones. It is described as fresh, vivid and sensual. Hazelnut note enriches the composition of woody elements, with fresh ozone combined with Greengage plum. It is available as a 50 and 100 ml Eau de Toilette. Read about this perfume in other languages: Deutsch, Español, Français, Italiano, Русский, Polski, Português, Ελληνικά, 汉语, Nederlands, Srpski, Română, العربية, Українська, Монгол, עברית.', 'top notes': ['Plum', 'Ozonic notes', 'Grapefruit', 'Bergamot'], 'middle notes': ['Hazelnut', 'Honey', 'Cedar', 'Cashmere Wood', 'Jasmine', 'Orange Blossom'], 'base notes': ['Amberwood', 'Patchouli', 'Oakmoss', 'Vetiver'], 'longevity': {'very weak': 43, 'weak': 61, 'moderate': 241, 'long lasting': 434, 'eternal': 97}, 'sillage': {'intimate': 107, 'moderate': 540, 'strong': 284, 'enormous': 156}, 'gender_vote': {'female': 0, 'more female': 5, 'unisex': 58, 'more male': 93, 'male': 44}, 'price value': {'way overpriced': 4, 'overpriced': 17, 'ok': 107, 'good value': 43, 'great value': 5}}, {'name': 'Midnight Fantasy', 'company': 'Britney Spears', 'image': 'https://fimgs.net/mdimg/perfume/375x500.802.jpg', 'for_gender': 'for women', 'rating': 3.97, 'number_votes': 7337, 'main accords': {'sweet': 100.0, 'fruity': 97.0704, 'cherry': 71.5287, 'vanilla': 62.6033, 'powdery': 55.4413, 'nutty': 50.7643, 'floral': 48.8268, 'almond': 46.6115}, 'description': 'Midnight Fantasy by Britney Spears is a Floral Fruity fragrance for women. Midnight Fantasy was launched in 2006. The nose behind this fragrance is Caroline Sabas. Top notes are Plum, Sour Cherry and Raspberry; middle notes are Orchid, iris and Freesia; base notes are Vanilla, Amber and Musk. Britney has launched her fourth fragrance for a younger audience, Midnight Fantasy. Now, on the dark blue bottle, Swarowski crystals resemble real stars. Night flowers and exotic fruits make it mysterious and appealing, like forbidden fruit. In the top notes there are exotic framboise, black cherry, and plum. The heart features an harmonious dialogue of night orchid, freesia and iris. Amber, musk and vanilla create a dark and warm trail. The perfume was created by Caroline Sabas in 2006. Read about this perfume in other languages: Deutsch, Español, Français, Italiano, Русский, Polski, Português, Ελληνικά, 汉语, Nederlands, Srpski, Română, العربية, Українська, Монгол, עברית.', 'top notes': ['Plum', 'Sour Cherry', 'Raspberry'], 'middle notes': ['Orchid', 'iris', 'Freesia'], 'base notes': ['Vanilla', 'Amber', 'Musk'], 'longevity': {'very weak': 109, 'weak': 181, 'moderate': 609, 'long lasting': 759, 'eternal': 385}, 'sillage': {'intimate': 216, 'moderate': 784, 'strong': 864, 'enormous': 344}, 'gender_vote': {'female': 158, 'more female': 11, 'unisex': 8, 'more male': 0, 'male': 2}, 'price value': {'way overpriced': 4, 'overpriced': 8, 'ok': 29, 'good value': 59, 'great value': 82}}, {'name': 'Shock-In-Scent For Women', 'company': 'Police', 'image': 'https://fimgs.net/mdimg/perfume/375x500.53442.jpg', 'for_gender': 'for women', 'rating': 3.95, 'number_votes': 77, 'main accords': {'honey': 100.0, 'sweet': 87.0145, 'almond': 72.6087, 'amber': 68.5507, 'white floral': 68.5507, 'floral': 67.8913, 'nutty': 55.5652, 'powdery': 51.3551, 'fruity': 51.3044, 'animalic': 49.8334}, 'description': 'Shock-In-Scent For Women by Police is a Floral Fruity Gourmand fragrance for women. This is a new fragrance. Shock-In-Scent For Women was launched in 2019. Top notes are Almond and Bergamot; middle notes are White Flowers, Jasmine and Ylang-Ylang; base notes are Honey, Amber and Orris Root.  Read about this perfume in other languages: Deutsch, Español, Français, Italiano, Русский, Polski, Português, Ελληνικά, 汉语, Nederlands, Srpski, Română, العربية, Українська, Монгол, עברית.', 'top notes': ['Almond', 'Bergamot'], 'middle notes': ['White Flowers', 'Jasmine', 'Ylang-Ylang'], 'base notes': ['Honey', 'Amber', 'Orris Root'], 'longevity': {'very weak': 2, 'weak': 4, 'moderate': 17, 'long lasting': 21, 'eternal': 16}, 'sillage': {'intimate': 6, 'moderate': 25, 'strong': 17, 'enormous': 37}, 'gender_vote': {'female': 23, 'more female': 0, 'unisex': 2, 'more male': 0, 'male': 0}, 'price value': {'way overpriced': 0, 'overpriced': 0, 'ok': 1, 'good value': 6, 'great value': 19}}, {'name': 'Rose Prick', 'company': 'Tom Ford', 'image': 'https://fimgs.net/mdimg/perfume/375x500.58781.jpg', 'for_gender': 'for women and men', 'rating': 3.56, 'number_votes': 518, 'main accords': {'warm spicy': 100.0, 'rose': 91.6477, 'patchouli': 72.2585, 'fresh spicy': 68.4801, 'earthy': 59.6555, 'woody': 55.3551, 'citrus': 54.4602, 'vanilla': 52.2727, 'floral': 48.4943, 'herbal': 47.1023}, 'description': 'Rose Prick by Tom Ford is a Chypre Floral fragrance for women and men. This is a new fragrance. Rose Prick was launched in 2020. Top notes are Sichuan Pepper and Turmeric; middle notes are May Rose, Bulgarian Rose and Turkish Rose; base notes are Patchouli and Tonka Bean. Rose Prick comes in a dusky pink matte bottle of the standard shape of a chess piece of the line and handles the rose note in a \"juicy, flowery and full-bodied\" way. Top notes: Sichuan pepper, turmeric\\nHeart: May rose, Turkish rose, Bulgarian rose\\nBase: patchouli, tonka bean Tom Ford Private Blend Rose Prick is available as a 50 ml Eau de Parfum. Read about this perfume in other languages: Deutsch, Español, Français, Italiano, Русский, Polski, Português, Ελληνικά, 汉语, Nederlands, Srpski, Română, العربية, Українська, Монгол, עברית.', 'top notes': ['Sichuan Pepper', 'Turmeric'], 'middle notes': ['May Rose', 'Bulgarian Rose', 'Turkish Rose'], 'base notes': ['Patchouli', 'Tonka Bean'], 'longevity': {'very weak': 22, 'weak': 31, 'moderate': 69, 'long lasting': 65, 'eternal': 44}, 'sillage': {'intimate': 69, 'moderate': 129, 'strong': 118, 'enormous': 124}, 'gender_vote': {'female': 34, 'more female': 19, 'unisex': 35, 'more male': 3, 'male': 2}, 'price value': {'way overpriced': 49, 'overpriced': 22, 'ok': 9, 'good value': 0, 'great value': 2}}, {'name': 'Fantasy The Nice Remix', 'company': 'Britney Spears', 'image': 'https://fimgs.net/mdimg/perfume/375x500.22960.jpg', 'for_gender': 'for women', 'rating': 4.06, 'number_votes': 561, 'main accords': {'sweet': 100.0, 'white floral': 67.6176, 'fruity': 60.7355, 'musky': 59.47, 'tropical': 47.0753, 'powdery': 44.735, 'fresh': 44.0069}, 'description': 'Fantasy The Nice Remix by Britney Spears is a Floral Fruity Gourmand fragrance for women. Fantasy The Nice Remix was launched in 2014. Britney Spears presents two new versions of her best selling and most popular fragrance Fantasy from 2005 - The Naughty Remix and The Nice Remix. These flankers are coming out at the beginning of February 2014. The Naughty Remix is made for moments when you feel a bit dangerous and daring, while The Nice Remix is in touch with your softer side. Both fragrances are made to emphasize certain notes of the original. \\n“Fantasy is truly an unforgettable scent. Remixing the original notes to create new fantasy scents gives my fans and me more ways of expressing our inner fantasies - whether they’re naughty or nice.” Britney Spears. \\nThe Nice Remix, as romantic and flirty version, is a sparkling fruity scent that blends signature kiwi accord with floral tones such as jasmine, sweet cupcake and creamy musk.\\n\\nBoth versions are available as 30, 50 and 100 ml Eau de Parfum Read about this perfume in other languages: Deutsch, Español, Français, Italiano, Русский, Polski, Português, Ελληνικά, 汉语, Nederlands, Srpski, Română, العربية, Українська, Монгол, עברית.', 'top notes': [], 'middle notes': ['Cupcake', 'Jasmine', 'Kiwi', 'Musk'], 'base notes': [], 'longevity': {'very weak': 27, 'weak': 21, 'moderate': 67, 'long lasting': 61, 'eternal': 19}, 'sillage': {'intimate': 53, 'moderate': 106, 'strong': 50, 'enormous': 50}, 'gender_vote': {'female': 3, 'more female': 0, 'unisex': 0, 'more male': 0, 'male': 0}, 'price value': {'way overpriced': 0, 'overpriced': 0, 'ok': 0, 'good value': 0, 'great value': 2}}]\n"
     ]
    }
   ],
   "source": [
    "print(list_of_perfume_dicts)\n",
    "# perfume_name_list"
   ]
  },
  {
   "cell_type": "code",
   "execution_count": 90,
   "metadata": {},
   "outputs": [
    {
     "name": "stdout",
     "output_type": "stream",
     "text": [
      "180\n"
     ]
    }
   ],
   "source": [
    "print(len(list_of_perfume_dicts))"
   ]
  },
  {
   "cell_type": "code",
   "execution_count": 30,
   "metadata": {
    "scrolled": true
   },
   "outputs": [
    {
     "data": {
      "text/plain": [
       "[<b>Acqua di Giò Profondo</b>,\n",
       " <b>Giorgio Armani</b>,\n",
       " <b>Acqua di Giò Profondo</b>]"
      ]
     },
     "execution_count": 30,
     "metadata": {},
     "output_type": "execute_result"
    }
   ],
   "source": [
    "# Troubleshooting\n",
    "# soup.find_all(\"div\", class_=\"cell small-12\")[3].find_all(\"b\")\n",
    "# soup.find_all(\"div\", class_=\"cell small-12\")[2]\n",
    "# soup.find_all(\"b\")"
   ]
  },
  {
   "cell_type": "code",
   "execution_count": 89,
   "metadata": {
    "scrolled": false
   },
   "outputs": [
    {
     "ename": "IndexError",
     "evalue": "list index out of range",
     "output_type": "error",
     "traceback": [
      "\u001b[1;31m---------------------------------------------------------------------------\u001b[0m",
      "\u001b[1;31mIndexError\u001b[0m                                Traceback (most recent call last)",
      "\u001b[1;32m<ipython-input-89-2297a6680b41>\u001b[0m in \u001b[0;36m<module>\u001b[1;34m\u001b[0m\n\u001b[0;32m     40\u001b[0m \u001b[1;33m\u001b[0m\u001b[0m\n\u001b[0;32m     41\u001b[0m             \u001b[1;31m####### PULL FROM ORIGINAL NAME LIST #######\u001b[0m\u001b[1;33m\u001b[0m\u001b[1;33m\u001b[0m\u001b[1;33m\u001b[0m\u001b[0m\n\u001b[1;32m---> 42\u001b[1;33m             \u001b[0mperfume_name\u001b[0m \u001b[1;33m=\u001b[0m \u001b[0msoup\u001b[0m\u001b[1;33m.\u001b[0m\u001b[0mfind_all\u001b[0m\u001b[1;33m(\u001b[0m\u001b[1;34m\"div\"\u001b[0m\u001b[1;33m,\u001b[0m \u001b[0mclass_\u001b[0m\u001b[1;33m=\u001b[0m\u001b[1;34m\"cell small-12\"\u001b[0m\u001b[1;33m)\u001b[0m\u001b[1;33m[\u001b[0m\u001b[1;36m3\u001b[0m\u001b[1;33m]\u001b[0m\u001b[1;33m.\u001b[0m\u001b[0mfind_all\u001b[0m\u001b[1;33m(\u001b[0m\u001b[1;34m\"b\"\u001b[0m\u001b[1;33m)\u001b[0m\u001b[1;33m[\u001b[0m\u001b[1;36m0\u001b[0m\u001b[1;33m]\u001b[0m\u001b[1;33m.\u001b[0m\u001b[0mget_text\u001b[0m\u001b[1;33m(\u001b[0m\u001b[1;33m)\u001b[0m\u001b[1;33m\u001b[0m\u001b[1;33m\u001b[0m\u001b[0m\n\u001b[0m\u001b[0;32m     43\u001b[0m             \u001b[0mperfume_comp\u001b[0m \u001b[1;33m=\u001b[0m \u001b[0msoup\u001b[0m\u001b[1;33m.\u001b[0m\u001b[0mfind_all\u001b[0m\u001b[1;33m(\u001b[0m\u001b[1;34m\"div\"\u001b[0m\u001b[1;33m,\u001b[0m \u001b[0mclass_\u001b[0m\u001b[1;33m=\u001b[0m\u001b[1;34m\"cell small-12\"\u001b[0m\u001b[1;33m)\u001b[0m\u001b[1;33m[\u001b[0m\u001b[1;36m3\u001b[0m\u001b[1;33m]\u001b[0m\u001b[1;33m.\u001b[0m\u001b[0mfind_all\u001b[0m\u001b[1;33m(\u001b[0m\u001b[1;34m\"b\"\u001b[0m\u001b[1;33m)\u001b[0m\u001b[1;33m[\u001b[0m\u001b[1;36m1\u001b[0m\u001b[1;33m]\u001b[0m\u001b[1;33m.\u001b[0m\u001b[0mget_text\u001b[0m\u001b[1;33m(\u001b[0m\u001b[1;33m)\u001b[0m\u001b[1;33m\u001b[0m\u001b[1;33m\u001b[0m\u001b[0m\n\u001b[0;32m     44\u001b[0m \u001b[1;33m\u001b[0m\u001b[0m\n",
      "\u001b[1;31mIndexError\u001b[0m: list index out of range"
     ]
    }
   ],
   "source": [
    "for i in range(2019,2020):\n",
    "    #try:\n",
    "        ####### CHANGE THE YEAR SETTING #######\n",
    "        browser.find_by_css('input[type=\"number\"]')[1].fill(i)\n",
    "        browser.find_by_css('input[type=\"number\"]')[0].fill(i)\n",
    "        time.sleep(5)\n",
    "\n",
    "        ####### CLICK \"SHOW MORE RESULTS\" #######\n",
    "        ####### with this coded out, we only get 40 results per year ######\n",
    "        for j in range(0,100):\n",
    "            try:\n",
    "                browser.find_by_css('button[class=\"button\"]').click()\n",
    "            except:\n",
    "                break\n",
    "            \n",
    "        html = browser.html\n",
    "        soup = bs(html, \"html.parser\")\n",
    "\n",
    "        ####### GET THE LENGTH OF THE RESULTS #######\n",
    "        block1 = soup.find(\"span\", class_=\"grid-x grid-margin-x grid-margin-y small-up-3 medium-up-2 large-up-4 perfumes-row text-center\")\n",
    "        perfume_name_list = []\n",
    "        \n",
    "        for perf_text in block1.find_all(\"a\", href=True):\n",
    "            perf_name = perf_text.get_text()\n",
    "            perfume_name_list.append(perf_name.replace('\\n', '').strip(\" \"))\n",
    "\n",
    "        ####### START ITERATING THROUGH THE PERFUMES OF THAT YEAR #######    \n",
    "        for k in range(len(perfume_name_list)):\n",
    "            html = browser.html\n",
    "            soup = bs(html, \"html.parser\")\n",
    "\n",
    "            browser.find_by_css('span[class=\"link-span\"]')[k].click()\n",
    "\n",
    "            time.sleep(5)\n",
    "\n",
    "            html = browser.html\n",
    "            soup = bs(html, \"html.parser\")\n",
    "\n",
    "            time.sleep(5)\n",
    "\n",
    "            ####### PULL FROM ORIGINAL NAME LIST #######\n",
    "            perfume_name = soup.find_all(\"div\", class_=\"cell small-12\")[3].find_all(\"b\")[0].get_text()\n",
    "            perfume_comp = soup.find_all(\"div\", class_=\"cell small-12\")[3].find_all(\"b\")[1].get_text()\n",
    "\n",
    "            perfume_image = soup.find_all(\"div\", class_=\"cell small-12\")[1].find(\"img\")[\"src\"]\n",
    "\n",
    "            for_gender = soup.find(\"small\").get_text()\n",
    "            \n",
    "            try:\n",
    "                rating = float(soup.find(\"p\", class_=\"info-note\").find_all(\"span\")[0].get_text())\n",
    "                number_votes = int(soup.find(\"p\", class_=\"info-note\").find_all(\"span\")[2].get_text().replace(',', ''))\n",
    "            except:\n",
    "                rating = \"NA\"\n",
    "                number_votes = \"NA\"\n",
    "                print(f\"{perfume_name} does not have a ranking\")\n",
    "                \n",
    "            try:\n",
    "                description = soup.find_all(\"div\", class_=\"cell small-12\")[3].get_text()\n",
    "            except:\n",
    "                description = \"NA\"\n",
    "                print(f\"{perfume_name} does not have a description\")\n",
    "\n",
    "            ####### MAIN ACCORDS DICTIONARY #######\n",
    "            \n",
    "            try:\n",
    "                main_accords = soup.find_all(\"div\", class_=\"cell accord-box\")\n",
    "                accords_dict = {}\n",
    "                for m in range(len(main_accords)):\n",
    "                    accord_name = main_accords[m].get_text()\n",
    "                    accord_value = float(main_accords[m].find(\"div\", class_=\"accord-bar\")[\"style\"].rsplit(\"width: \")[1].strip(\"%;\"))\n",
    "                    accords_dict[accord_name] = accord_value\n",
    "            except:\n",
    "                accords_dict = {}\n",
    "                print(f\"{perfume_name} does not have accords\")\n",
    "\n",
    "            ####### FRAGRANCE NOTES #######        \n",
    "            notes = soup.find_all(\"div\", attrs={\"style\": \"display: flex; justify-content: center; text-align: center; flex-flow: row wrap; align-items: flex-end; padding: 0.5rem;\"})\n",
    "\n",
    "            if len(notes) == 3:\n",
    "                number = 2\n",
    "                top_notes_list = []\n",
    "                middle_notes_list = []\n",
    "                base_notes_list = []\n",
    "\n",
    "                for n in range(len(notes[0].find_all(\"span\", class_=\"link-span\"))):\n",
    "                    top_notes_list.append(notes[0].find_all(\"div\")[number].get_text())\n",
    "                    number += 3\n",
    "\n",
    "                number = 2\n",
    "                for p in range(len(notes[1].find_all(\"span\", class_=\"link-span\"))):\n",
    "                    middle_notes_list.append(notes[1].find_all(\"div\")[number].get_text())\n",
    "                    number += 3\n",
    "\n",
    "                number = 2\n",
    "                for q in range(len(notes[2].find_all(\"span\", class_=\"link-span\"))):\n",
    "                    base_notes_list.append(notes[2].find_all(\"div\")[number].get_text())\n",
    "                    number += 3\n",
    "            elif len(notes) == 2:\n",
    "                number = 2\n",
    "                top_notes_list = []\n",
    "                middle_notes_list = []\n",
    "                base_notes_list = []\n",
    "\n",
    "                for r in range(len(notes[0].find_all(\"span\", class_=\"link-span\"))):\n",
    "                    top_notes_list.append(notes[0].find_all(\"div\")[number].get_text())\n",
    "                    number += 3\n",
    "\n",
    "                number = 2\n",
    "                for s in range(len(notes[1].find_all(\"span\", class_=\"link-span\"))):\n",
    "                    middle_notes_list.append(notes[1].find_all(\"div\")[number].get_text())\n",
    "                    number += 3\n",
    "            elif len(notes) == 1:\n",
    "                number = 2\n",
    "                top_notes_list = []\n",
    "                middle_notes_list = []\n",
    "                base_notes_list = []\n",
    "\n",
    "                for v in range(len(notes[0].find_all(\"span\", class_=\"link-span\"))):\n",
    "                    middle_notes_list.append(notes[0].find_all(\"div\")[number].get_text())\n",
    "                    number += 3\n",
    "            else:\n",
    "                top_notes_list = []\n",
    "                middle_notes_list = []\n",
    "                base_notes_list = []\n",
    "\n",
    "            ####### VOTING DATA & INFORMATION #######\n",
    "            voting = soup.find_all(\"div\", class_=\"cell small-1 medium-1 large-1\")\n",
    "\n",
    "            ####### Longevity #######\n",
    "            long_v_weak = int(voting[0].get_text())\n",
    "            long_weak = int(voting[1].get_text())\n",
    "            long_moderate = int(voting[2].get_text())\n",
    "            long_long_last = int(voting[3].get_text())\n",
    "            long_eternal = int(voting[4].get_text())\n",
    "\n",
    "            ####### Sillage #######\n",
    "            sill_intimate = int(voting[5].get_text())\n",
    "            sill_moderate = int(voting[6].get_text())\n",
    "            sill_strong = int(voting[7].get_text())\n",
    "            sill_enormus = int(voting[8].get_text())\n",
    "\n",
    "            ####### Gender #######\n",
    "            gender_female = int(voting[9].get_text())\n",
    "            gender_more_fem = int(voting[10].get_text())\n",
    "            gender_unisex = int(voting[11].get_text())\n",
    "            gender_more_male = int(voting[12].get_text())\n",
    "            gender_male = int(voting[13].get_text())\n",
    "\n",
    "            ####### Price Value #######\n",
    "            value_w_over = int(voting[14].get_text())\n",
    "            value_over = int(voting[15].get_text())\n",
    "            value_ok = int(voting[16].get_text())\n",
    "            value_good = int(voting[17].get_text())\n",
    "            value_great = int(voting[18].get_text())\n",
    "\n",
    "            ####### CREATING THE DICTIONARY OF DATA #######\n",
    "            perfume_dict = {\"name\": perfume_name,\n",
    "                            \"company\": perfume_comp,\n",
    "                            \"image\": perfume_image,\n",
    "                            \"for_gender\": for_gender,\n",
    "                            \"rating\": rating,\n",
    "                            \"number_votes\": number_votes,\n",
    "                            \"main accords\": accords_dict,\n",
    "                            \"description\": description,\n",
    "                            \"top notes\": top_notes_list,\n",
    "                            \"middle notes\": middle_notes_list,\n",
    "                            \"base notes\": base_notes_list,\n",
    "                            \"longevity\":   {\"very weak\": long_v_weak,\n",
    "                                            \"weak\": long_weak,\n",
    "                                            \"moderate\": long_moderate,\n",
    "                                            \"long lasting\": long_long_last,\n",
    "                                            \"eternal\": long_eternal},\n",
    "                            \"sillage\":     {\"intimate\": sill_intimate,\n",
    "                                            \"moderate\": sill_moderate,\n",
    "                                            \"strong\": sill_strong,\n",
    "                                            \"enormous\": sill_enormus},\n",
    "                            \"gender_vote\": {\"female\": gender_female,\n",
    "                                            \"more female\": gender_more_fem,\n",
    "                                            \"unisex\": gender_unisex,\n",
    "                                            \"more male\": gender_more_male,\n",
    "                                            \"male\": gender_male},\n",
    "                            \"price value\": {\"way overpriced\": value_w_over,\n",
    "                                            \"overpriced\": value_over,\n",
    "                                            \"ok\": value_ok,\n",
    "                                            \"good value\": value_good,\n",
    "                                            \"great value\": value_great}\n",
    "                           }\n",
    "            list_of_perfume_dicts.append(perfume_dict)\n",
    "\n",
    "            time.sleep(2)\n",
    "\n",
    "            browser.back()\n",
    "            \n",
    "            time.sleep(2)\n",
    "        \n",
    "#     except:\n",
    "#         print(f\"Error with {i} year - skipping to next year\")\n",
    "#         print(f\"-------------------------------------------\")"
   ]
  },
  {
   "cell_type": "code",
   "execution_count": 9,
   "metadata": {},
   "outputs": [
    {
     "data": {
      "text/plain": [
       "' Lacdor\\n                            '"
      ]
     },
     "execution_count": 9,
     "metadata": {},
     "output_type": "execute_result"
    }
   ],
   "source": [
    "perf_name"
   ]
  },
  {
   "cell_type": "code",
   "execution_count": 7,
   "metadata": {},
   "outputs": [
    {
     "data": {
      "text/plain": [
       "1"
      ]
     },
     "execution_count": 7,
     "metadata": {},
     "output_type": "execute_result"
    }
   ],
   "source": [
    "len(list_of_perfume_dicts)"
   ]
  },
  {
   "cell_type": "code",
   "execution_count": 91,
   "metadata": {
    "scrolled": true
   },
   "outputs": [],
   "source": [
    "# with open (\"perfume_data_2020_2021_45_hits_REM.json\", \"w\") as f:\n",
    "#     json.dump(list_of_perfume_dicts, f)\n",
    "    \n",
    "with open (\"perfume_data_2017_plus.json\", \"w\") as f:\n",
    "    json.dump(list_of_perfume_dicts, f)"
   ]
  },
  {
   "cell_type": "code",
   "execution_count": null,
   "metadata": {},
   "outputs": [],
   "source": [
    "####################################################\n",
    "####### USE THIS FOR A SINGULAR PERFUME PAGE #######\n",
    "############### NOT THE SEARCH PAGE ###############\n",
    "###################################################\n",
    "\n",
    "\n",
    "html = browser.html\n",
    "soup = bs(html, \"html.parser\")\n",
    "\n",
    "time.sleep(1)\n",
    "\n",
    "####### PULL FROM ORIGINAL NAME LIST #######\n",
    "perfume_name = soup.find_all(\"div\", class_=\"cell small-12\")[3].find_all(\"b\")[0].get_text()\n",
    "perfume_comp = soup.find_all(\"div\", class_=\"cell small-12\")[3].find_all(\"b\")[1].get_text()\n",
    "\n",
    "perfume_image = soup.find_all(\"div\", class_=\"cell small-12\")[1].find(\"img\")[\"src\"]\n",
    "\n",
    "for_gender = soup.find(\"small\").get_text()\n",
    "\n",
    "try:\n",
    "    rating = float(soup.find(\"p\", class_=\"info-note\").find_all(\"span\")[0].get_text())\n",
    "    number_votes = int(soup.find(\"p\", class_=\"info-note\").find_all(\"span\")[2].get_text().replace(',', ''))\n",
    "except:\n",
    "    rating = \"NA\"\n",
    "    number_votes = \"NA\"\n",
    "    print(f\"{perfume_name} does not have a ranking\")\n",
    "\n",
    "try:\n",
    "    description = soup.find_all(\"div\", class_=\"cell small-12\")[3].get_text()\n",
    "except:\n",
    "    description = \"NA\"\n",
    "    print(f\"{perfume_name} does not have a description\")\n",
    "\n",
    "####### MAIN ACCORDS DICTIONARY #######\n",
    "\n",
    "try:\n",
    "    main_accords = soup.find_all(\"div\", class_=\"cell accord-box\")\n",
    "    accords_dict = {}\n",
    "    for m in range(len(main_accords)):\n",
    "        accord_name = main_accords[m].get_text()\n",
    "        accord_value = float(main_accords[m].find(\"div\", class_=\"accord-bar\")[\"style\"].rsplit(\"width: \")[1].strip(\"%;\"))\n",
    "        accords_dict[accord_name] = accord_value\n",
    "except:\n",
    "    accords_dict = {}\n",
    "    print(f\"{perfume_name} does not have accords\")\n",
    "\n",
    "####### FRAGRANCE NOTES #######        \n",
    "notes = soup.find_all(\"div\", attrs={\"style\": \"display: flex; justify-content: center; text-align: center; flex-flow: row wrap; align-items: flex-end; padding: 0.5rem;\"})\n",
    "\n",
    "if len(notes) == 3:\n",
    "    number = 2\n",
    "    top_notes_list = []\n",
    "    middle_notes_list = []\n",
    "    base_notes_list = []\n",
    "\n",
    "    for n in range(len(notes[0].find_all(\"span\", class_=\"link-span\"))):\n",
    "        top_notes_list.append(notes[0].find_all(\"div\")[number].get_text())\n",
    "        number += 3\n",
    "\n",
    "    number = 2\n",
    "    for p in range(len(notes[1].find_all(\"span\", class_=\"link-span\"))):\n",
    "        middle_notes_list.append(notes[1].find_all(\"div\")[number].get_text())\n",
    "        number += 3\n",
    "\n",
    "    number = 2\n",
    "    for q in range(len(notes[2].find_all(\"span\", class_=\"link-span\"))):\n",
    "        base_notes_list.append(notes[2].find_all(\"div\")[number].get_text())\n",
    "        number += 3\n",
    "elif len(notes) == 2:\n",
    "    number = 2\n",
    "    top_notes_list = []\n",
    "    middle_notes_list = []\n",
    "    base_notes_list = []\n",
    "\n",
    "    for r in range(len(notes[0].find_all(\"span\", class_=\"link-span\"))):\n",
    "        top_notes_list.append(notes[0].find_all(\"div\")[number].get_text())\n",
    "        number += 3\n",
    "\n",
    "    number = 2\n",
    "    for s in range(len(notes[1].find_all(\"span\", class_=\"link-span\"))):\n",
    "        middle_notes_list.append(notes[1].find_all(\"div\")[number].get_text())\n",
    "        number += 3\n",
    "elif len(notes) == 1:\n",
    "    number = 2\n",
    "    top_notes_list = []\n",
    "    middle_notes_list = []\n",
    "    base_notes_list = []\n",
    "\n",
    "    for v in range(len(notes[0].find_all(\"span\", class_=\"link-span\"))):\n",
    "        middle_notes_list.append(notes[0].find_all(\"div\")[number].get_text())\n",
    "        number += 3\n",
    "else:\n",
    "    top_notes_list = []\n",
    "    middle_notes_list = []\n",
    "    base_notes_list = []\n",
    "\n",
    "####### VOTING DATA & INFORMATION #######\n",
    "voting = soup.find_all(\"div\", class_=\"cell small-1 medium-1 large-1\")\n",
    "\n",
    "####### Longevity #######\n",
    "long_v_weak = int(voting[0].get_text())\n",
    "long_weak = int(voting[1].get_text())\n",
    "long_moderate = int(voting[2].get_text())\n",
    "long_long_last = int(voting[3].get_text())\n",
    "long_eternal = int(voting[4].get_text())\n",
    "\n",
    "####### Sillage #######\n",
    "sill_intimate = int(voting[5].get_text())\n",
    "sill_moderate = int(voting[6].get_text())\n",
    "sill_strong = int(voting[7].get_text())\n",
    "sill_enormus = int(voting[8].get_text())\n",
    "\n",
    "####### Gender #######\n",
    "gender_female = int(voting[9].get_text())\n",
    "gender_more_fem = int(voting[10].get_text())\n",
    "gender_unisex = int(voting[11].get_text())\n",
    "gender_more_male = int(voting[12].get_text())\n",
    "gender_male = int(voting[13].get_text())\n",
    "\n",
    "####### Price Value #######\n",
    "value_w_over = int(voting[14].get_text())\n",
    "value_over = int(voting[15].get_text())\n",
    "value_ok = int(voting[16].get_text())\n",
    "value_good = int(voting[17].get_text())\n",
    "value_great = int(voting[18].get_text())\n",
    "\n",
    "####### CREATING THE DICTIONARY OF DATA #######\n",
    "perfume_dict = {\"name\": perfume_name,\n",
    "                \"company\": perfume_comp,\n",
    "                \"image\": perfume_image,\n",
    "                \"for_gender\": for_gender,\n",
    "                \"rating\": rating,\n",
    "                \"number_votes\": number_votes,\n",
    "                \"main accords\": accords_dict,\n",
    "                \"description\": description,\n",
    "                \"top notes\": top_notes_list,\n",
    "                \"middle notes\": middle_notes_list,\n",
    "                \"base notes\": base_notes_list,\n",
    "                \"longevity\":   {\"very weak\": long_v_weak,\n",
    "                                \"weak\": long_weak,\n",
    "                                \"moderate\": long_moderate,\n",
    "                                \"long lasting\": long_long_last,\n",
    "                                \"eternal\": long_eternal},\n",
    "                \"sillage\":     {\"intimate\": sill_intimate,\n",
    "                                \"moderate\": sill_moderate,\n",
    "                                \"strong\": sill_strong,\n",
    "                                \"enormous\": sill_enormus},\n",
    "                \"gender_vote\": {\"female\": gender_female,\n",
    "                                \"more female\": gender_more_fem,\n",
    "                                \"unisex\": gender_unisex,\n",
    "                                \"more male\": gender_more_male,\n",
    "                                \"male\": gender_male},\n",
    "                \"price value\": {\"way overpriced\": value_w_over,\n",
    "                                \"overpriced\": value_over,\n",
    "                                \"ok\": value_ok,\n",
    "                                \"good value\": value_good,\n",
    "                                \"great value\": value_great}\n",
    "               }\n",
    "list_of_perfume_dicts.append(perfume_dict)\n",
    "\n",
    "time.sleep(2)\n",
    "\n",
    "browser.back()"
   ]
  },
  {
   "cell_type": "code",
   "execution_count": null,
   "metadata": {},
   "outputs": [],
   "source": []
  }
 ],
 "metadata": {
  "kernelspec": {
   "display_name": "Python 3",
   "language": "python",
   "name": "python3"
  },
  "language_info": {
   "codemirror_mode": {
    "name": "ipython",
    "version": 3
   },
   "file_extension": ".py",
   "mimetype": "text/x-python",
   "name": "python",
   "nbconvert_exporter": "python",
   "pygments_lexer": "ipython3",
   "version": "3.6.10"
  }
 },
 "nbformat": 4,
 "nbformat_minor": 5
}
